{
 "cells": [
  {
   "cell_type": "markdown",
   "metadata": {
    "application/vnd.databricks.v1+cell": {
     "cellMetadata": {},
     "inputWidgets": {},
     "nuid": "c7913087-beeb-4bc9-9877-8756d93465a7",
     "showTitle": false,
     "title": ""
    }
   },
   "source": [
    "## 2.5 Spark Session\n",
    "- Spark Application 은 SparkSession 이라는 드라이버 프로세스로 제어한다. "
   ]
  },
  {
   "cell_type": "code",
   "execution_count": 0,
   "metadata": {
    "application/vnd.databricks.v1+cell": {
     "cellMetadata": {
      "byteLimit": 2048000,
      "rowLimit": 10000
     },
     "inputWidgets": {},
     "nuid": "e8cf112f-c2b5-4ecf-bb1d-fb61c9304858",
     "showTitle": false,
     "title": ""
    }
   },
   "outputs": [
    {
     "output_type": "display_data",
     "data": {
      "text/html": [
       "\n",
       "            <div>\n",
       "                <p><b>SparkSession - hive</b></p>\n",
       "                \n",
       "        <div>\n",
       "            <p><b>SparkContext</b></p>\n",
       "\n",
       "            <p><a href=\"/?o=8038921421155312#setting/sparkui/1029-134500-c7dkqka7/driver-2688025863676605239\">Spark UI</a></p>\n",
       "\n",
       "            <dl>\n",
       "              <dt>Version</dt>\n",
       "                <dd><code>v3.3.2</code></dd>\n",
       "              <dt>Master</dt>\n",
       "                <dd><code>local[8]</code></dd>\n",
       "              <dt>AppName</dt>\n",
       "                <dd><code>Databricks Shell</code></dd>\n",
       "            </dl>\n",
       "        </div>\n",
       "        \n",
       "            </div>\n",
       "        "
      ]
     },
     "metadata": {
      "application/vnd.databricks.v1+output": {
       "addedWidgets": {},
       "arguments": {},
       "data": "\n            <div>\n                <p><b>SparkSession - hive</b></p>\n                \n        <div>\n            <p><b>SparkContext</b></p>\n\n            <p><a href=\"/?o=8038921421155312#setting/sparkui/1029-134500-c7dkqka7/driver-2688025863676605239\">Spark UI</a></p>\n\n            <dl>\n              <dt>Version</dt>\n                <dd><code>v3.3.2</code></dd>\n              <dt>Master</dt>\n                <dd><code>local[8]</code></dd>\n              <dt>AppName</dt>\n                <dd><code>Databricks Shell</code></dd>\n            </dl>\n        </div>\n        \n            </div>\n        ",
       "datasetInfos": [],
       "metadata": {},
       "removedWidgets": [],
       "textData": null,
       "type": "htmlSandbox"
      }
     },
     "output_type": "display_data"
    }
   ],
   "source": [
    "spark"
   ]
  },
  {
   "cell_type": "markdown",
   "metadata": {
    "application/vnd.databricks.v1+cell": {
     "cellMetadata": {},
     "inputWidgets": {},
     "nuid": "f7c075d7-2669-47bd-b271-d6b9bfd37402",
     "showTitle": false,
     "title": ""
    }
   },
   "source": [
    "## 2.6 Spark DataFrame\n",
    "- 구조적 API \n",
    "- 테이블의 데이터를 row , column 으로 표현 "
   ]
  },
  {
   "cell_type": "code",
   "execution_count": 0,
   "metadata": {
    "application/vnd.databricks.v1+cell": {
     "cellMetadata": {
      "byteLimit": 2048000,
      "rowLimit": 10000
     },
     "inputWidgets": {},
     "nuid": "ec2c25cc-ce05-4101-944f-313840a859af",
     "showTitle": false,
     "title": ""
    }
   },
   "outputs": [
    {
     "output_type": "display_data",
     "data": {
      "text/html": [
       "<style scoped>\n",
       "  .ansiout {\n",
       "    display: block;\n",
       "    unicode-bidi: embed;\n",
       "    white-space: pre-wrap;\n",
       "    word-wrap: break-word;\n",
       "    word-break: break-all;\n",
       "    font-family: \"Menlo\", \"Monaco\", \"Consolas\", \"Ubuntu Mono\", \"Source Code Pro\", monospace;\n",
       "    font-size: 13px;\n",
       "    color: #555;\n",
       "    margin-left: 4px;\n",
       "    line-height: 19px;\n",
       "  }\n",
       "</style>\n",
       "<div class=\"ansiout\">myRange: org.apache.spark.sql.DataFrame = [n: bigint]\n",
       "</div>"
      ]
     },
     "metadata": {
      "application/vnd.databricks.v1+output": {
       "addedWidgets": {},
       "arguments": {},
       "data": "<div class=\"ansiout\">myRange: org.apache.spark.sql.DataFrame = [n: bigint]\n</div>",
       "datasetInfos": [
        {
         "name": "myRange",
         "schema": {
          "fields": [
           {
            "metadata": {},
            "name": "n",
            "nullable": false,
            "type": "long"
           }
          ],
          "type": "struct"
         },
         "tableIdentifier": null,
         "typeStr": "org.apache.spark.sql.DataFrame"
        }
       ],
       "metadata": {
        "isDbfsCommandResult": false
       },
       "removedWidgets": [],
       "type": "html"
      }
     },
     "output_type": "display_data"
    }
   ],
   "source": [
    "%scala\n",
    "val myRange = spark.range(1000).toDF(\"n\")"
   ]
  },
  {
   "cell_type": "code",
   "execution_count": 0,
   "metadata": {
    "application/vnd.databricks.v1+cell": {
     "cellMetadata": {
      "byteLimit": 2048000,
      "rowLimit": 10000
     },
     "inputWidgets": {},
     "nuid": "78f98251-1946-4e66-becf-f2c6de9ce22b",
     "showTitle": false,
     "title": ""
    }
   },
   "outputs": [],
   "source": [
    "# 한 개의 column 과 1000 개의 row \n",
    "myRange = spark.range(1000).toDF(\"number\")"
   ]
  },
  {
   "cell_type": "code",
   "execution_count": 0,
   "metadata": {
    "application/vnd.databricks.v1+cell": {
     "cellMetadata": {
      "byteLimit": 2048000,
      "rowLimit": 10000
     },
     "inputWidgets": {},
     "nuid": "71225032-53a8-437b-8fb0-140fbd5bb861",
     "showTitle": false,
     "title": ""
    }
   },
   "outputs": [
    {
     "output_type": "display_data",
     "data": {
      "text/html": [
       "<style scoped>\n",
       "  .table-result-container {\n",
       "    max-height: 300px;\n",
       "    overflow: auto;\n",
       "  }\n",
       "  table, th, td {\n",
       "    border: 1px solid black;\n",
       "    border-collapse: collapse;\n",
       "  }\n",
       "  th, td {\n",
       "    padding: 5px;\n",
       "  }\n",
       "  th {\n",
       "    text-align: left;\n",
       "  }\n",
       "</style><div class='table-result-container'><table class='table-result'><thead style='background-color: white'><tr><th>number</th></tr></thead><tbody><tr><td>0</td></tr><tr><td>1</td></tr><tr><td>2</td></tr><tr><td>3</td></tr><tr><td>4</td></tr><tr><td>5</td></tr><tr><td>6</td></tr><tr><td>7</td></tr><tr><td>8</td></tr><tr><td>9</td></tr><tr><td>10</td></tr><tr><td>11</td></tr><tr><td>12</td></tr><tr><td>13</td></tr><tr><td>14</td></tr><tr><td>15</td></tr><tr><td>16</td></tr><tr><td>17</td></tr><tr><td>18</td></tr><tr><td>19</td></tr><tr><td>20</td></tr><tr><td>21</td></tr><tr><td>22</td></tr><tr><td>23</td></tr><tr><td>24</td></tr><tr><td>25</td></tr><tr><td>26</td></tr><tr><td>27</td></tr><tr><td>28</td></tr><tr><td>29</td></tr><tr><td>30</td></tr><tr><td>31</td></tr><tr><td>32</td></tr><tr><td>33</td></tr><tr><td>34</td></tr><tr><td>35</td></tr><tr><td>36</td></tr><tr><td>37</td></tr><tr><td>38</td></tr><tr><td>39</td></tr><tr><td>40</td></tr><tr><td>41</td></tr><tr><td>42</td></tr><tr><td>43</td></tr><tr><td>44</td></tr><tr><td>45</td></tr><tr><td>46</td></tr><tr><td>47</td></tr><tr><td>48</td></tr><tr><td>49</td></tr><tr><td>50</td></tr><tr><td>51</td></tr><tr><td>52</td></tr><tr><td>53</td></tr><tr><td>54</td></tr><tr><td>55</td></tr><tr><td>56</td></tr><tr><td>57</td></tr><tr><td>58</td></tr><tr><td>59</td></tr><tr><td>60</td></tr><tr><td>61</td></tr><tr><td>62</td></tr><tr><td>63</td></tr><tr><td>64</td></tr><tr><td>65</td></tr><tr><td>66</td></tr><tr><td>67</td></tr><tr><td>68</td></tr><tr><td>69</td></tr><tr><td>70</td></tr><tr><td>71</td></tr><tr><td>72</td></tr><tr><td>73</td></tr><tr><td>74</td></tr><tr><td>75</td></tr><tr><td>76</td></tr><tr><td>77</td></tr><tr><td>78</td></tr><tr><td>79</td></tr><tr><td>80</td></tr><tr><td>81</td></tr><tr><td>82</td></tr><tr><td>83</td></tr><tr><td>84</td></tr><tr><td>85</td></tr><tr><td>86</td></tr><tr><td>87</td></tr><tr><td>88</td></tr><tr><td>89</td></tr><tr><td>90</td></tr><tr><td>91</td></tr><tr><td>92</td></tr><tr><td>93</td></tr><tr><td>94</td></tr><tr><td>95</td></tr><tr><td>96</td></tr><tr><td>97</td></tr><tr><td>98</td></tr><tr><td>99</td></tr><tr><td>100</td></tr><tr><td>101</td></tr><tr><td>102</td></tr><tr><td>103</td></tr><tr><td>104</td></tr><tr><td>105</td></tr><tr><td>106</td></tr><tr><td>107</td></tr><tr><td>108</td></tr><tr><td>109</td></tr><tr><td>110</td></tr><tr><td>111</td></tr><tr><td>112</td></tr><tr><td>113</td></tr><tr><td>114</td></tr><tr><td>115</td></tr><tr><td>116</td></tr><tr><td>117</td></tr><tr><td>118</td></tr><tr><td>119</td></tr><tr><td>120</td></tr><tr><td>121</td></tr><tr><td>122</td></tr><tr><td>123</td></tr><tr><td>124</td></tr><tr><td>125</td></tr><tr><td>126</td></tr><tr><td>127</td></tr><tr><td>128</td></tr><tr><td>129</td></tr><tr><td>130</td></tr><tr><td>131</td></tr><tr><td>132</td></tr><tr><td>133</td></tr><tr><td>134</td></tr><tr><td>135</td></tr><tr><td>136</td></tr><tr><td>137</td></tr><tr><td>138</td></tr><tr><td>139</td></tr><tr><td>140</td></tr><tr><td>141</td></tr><tr><td>142</td></tr><tr><td>143</td></tr><tr><td>144</td></tr><tr><td>145</td></tr><tr><td>146</td></tr><tr><td>147</td></tr><tr><td>148</td></tr><tr><td>149</td></tr><tr><td>150</td></tr><tr><td>151</td></tr><tr><td>152</td></tr><tr><td>153</td></tr><tr><td>154</td></tr><tr><td>155</td></tr><tr><td>156</td></tr><tr><td>157</td></tr><tr><td>158</td></tr><tr><td>159</td></tr><tr><td>160</td></tr><tr><td>161</td></tr><tr><td>162</td></tr><tr><td>163</td></tr><tr><td>164</td></tr><tr><td>165</td></tr><tr><td>166</td></tr><tr><td>167</td></tr><tr><td>168</td></tr><tr><td>169</td></tr><tr><td>170</td></tr><tr><td>171</td></tr><tr><td>172</td></tr><tr><td>173</td></tr><tr><td>174</td></tr><tr><td>175</td></tr><tr><td>176</td></tr><tr><td>177</td></tr><tr><td>178</td></tr><tr><td>179</td></tr><tr><td>180</td></tr><tr><td>181</td></tr><tr><td>182</td></tr><tr><td>183</td></tr><tr><td>184</td></tr><tr><td>185</td></tr><tr><td>186</td></tr><tr><td>187</td></tr><tr><td>188</td></tr><tr><td>189</td></tr><tr><td>190</td></tr><tr><td>191</td></tr><tr><td>192</td></tr><tr><td>193</td></tr><tr><td>194</td></tr><tr><td>195</td></tr><tr><td>196</td></tr><tr><td>197</td></tr><tr><td>198</td></tr><tr><td>199</td></tr><tr><td>200</td></tr><tr><td>201</td></tr><tr><td>202</td></tr><tr><td>203</td></tr><tr><td>204</td></tr><tr><td>205</td></tr><tr><td>206</td></tr><tr><td>207</td></tr><tr><td>208</td></tr><tr><td>209</td></tr><tr><td>210</td></tr><tr><td>211</td></tr><tr><td>212</td></tr><tr><td>213</td></tr><tr><td>214</td></tr><tr><td>215</td></tr><tr><td>216</td></tr><tr><td>217</td></tr><tr><td>218</td></tr><tr><td>219</td></tr><tr><td>220</td></tr><tr><td>221</td></tr><tr><td>222</td></tr><tr><td>223</td></tr><tr><td>224</td></tr><tr><td>225</td></tr><tr><td>226</td></tr><tr><td>227</td></tr><tr><td>228</td></tr><tr><td>229</td></tr><tr><td>230</td></tr><tr><td>231</td></tr><tr><td>232</td></tr><tr><td>233</td></tr><tr><td>234</td></tr><tr><td>235</td></tr><tr><td>236</td></tr><tr><td>237</td></tr><tr><td>238</td></tr><tr><td>239</td></tr><tr><td>240</td></tr><tr><td>241</td></tr><tr><td>242</td></tr><tr><td>243</td></tr><tr><td>244</td></tr><tr><td>245</td></tr><tr><td>246</td></tr><tr><td>247</td></tr><tr><td>248</td></tr><tr><td>249</td></tr><tr><td>250</td></tr><tr><td>251</td></tr><tr><td>252</td></tr><tr><td>253</td></tr><tr><td>254</td></tr><tr><td>255</td></tr><tr><td>256</td></tr><tr><td>257</td></tr><tr><td>258</td></tr><tr><td>259</td></tr><tr><td>260</td></tr><tr><td>261</td></tr><tr><td>262</td></tr><tr><td>263</td></tr><tr><td>264</td></tr><tr><td>265</td></tr><tr><td>266</td></tr><tr><td>267</td></tr><tr><td>268</td></tr><tr><td>269</td></tr><tr><td>270</td></tr><tr><td>271</td></tr><tr><td>272</td></tr><tr><td>273</td></tr><tr><td>274</td></tr><tr><td>275</td></tr><tr><td>276</td></tr><tr><td>277</td></tr><tr><td>278</td></tr><tr><td>279</td></tr><tr><td>280</td></tr><tr><td>281</td></tr><tr><td>282</td></tr><tr><td>283</td></tr><tr><td>284</td></tr><tr><td>285</td></tr><tr><td>286</td></tr><tr><td>287</td></tr><tr><td>288</td></tr><tr><td>289</td></tr><tr><td>290</td></tr><tr><td>291</td></tr><tr><td>292</td></tr><tr><td>293</td></tr><tr><td>294</td></tr><tr><td>295</td></tr><tr><td>296</td></tr><tr><td>297</td></tr><tr><td>298</td></tr><tr><td>299</td></tr><tr><td>300</td></tr><tr><td>301</td></tr><tr><td>302</td></tr><tr><td>303</td></tr><tr><td>304</td></tr><tr><td>305</td></tr><tr><td>306</td></tr><tr><td>307</td></tr><tr><td>308</td></tr><tr><td>309</td></tr><tr><td>310</td></tr><tr><td>311</td></tr><tr><td>312</td></tr><tr><td>313</td></tr><tr><td>314</td></tr><tr><td>315</td></tr><tr><td>316</td></tr><tr><td>317</td></tr><tr><td>318</td></tr><tr><td>319</td></tr><tr><td>320</td></tr><tr><td>321</td></tr><tr><td>322</td></tr><tr><td>323</td></tr><tr><td>324</td></tr><tr><td>325</td></tr><tr><td>326</td></tr><tr><td>327</td></tr><tr><td>328</td></tr><tr><td>329</td></tr><tr><td>330</td></tr><tr><td>331</td></tr><tr><td>332</td></tr><tr><td>333</td></tr><tr><td>334</td></tr><tr><td>335</td></tr><tr><td>336</td></tr><tr><td>337</td></tr><tr><td>338</td></tr><tr><td>339</td></tr><tr><td>340</td></tr><tr><td>341</td></tr><tr><td>342</td></tr><tr><td>343</td></tr><tr><td>344</td></tr><tr><td>345</td></tr><tr><td>346</td></tr><tr><td>347</td></tr><tr><td>348</td></tr><tr><td>349</td></tr><tr><td>350</td></tr><tr><td>351</td></tr><tr><td>352</td></tr><tr><td>353</td></tr><tr><td>354</td></tr><tr><td>355</td></tr><tr><td>356</td></tr><tr><td>357</td></tr><tr><td>358</td></tr><tr><td>359</td></tr><tr><td>360</td></tr><tr><td>361</td></tr><tr><td>362</td></tr><tr><td>363</td></tr><tr><td>364</td></tr><tr><td>365</td></tr><tr><td>366</td></tr><tr><td>367</td></tr><tr><td>368</td></tr><tr><td>369</td></tr><tr><td>370</td></tr><tr><td>371</td></tr><tr><td>372</td></tr><tr><td>373</td></tr><tr><td>374</td></tr><tr><td>375</td></tr><tr><td>376</td></tr><tr><td>377</td></tr><tr><td>378</td></tr><tr><td>379</td></tr><tr><td>380</td></tr><tr><td>381</td></tr><tr><td>382</td></tr><tr><td>383</td></tr><tr><td>384</td></tr><tr><td>385</td></tr><tr><td>386</td></tr><tr><td>387</td></tr><tr><td>388</td></tr><tr><td>389</td></tr><tr><td>390</td></tr><tr><td>391</td></tr><tr><td>392</td></tr><tr><td>393</td></tr><tr><td>394</td></tr><tr><td>395</td></tr><tr><td>396</td></tr><tr><td>397</td></tr><tr><td>398</td></tr><tr><td>399</td></tr><tr><td>400</td></tr><tr><td>401</td></tr><tr><td>402</td></tr><tr><td>403</td></tr><tr><td>404</td></tr><tr><td>405</td></tr><tr><td>406</td></tr><tr><td>407</td></tr><tr><td>408</td></tr><tr><td>409</td></tr><tr><td>410</td></tr><tr><td>411</td></tr><tr><td>412</td></tr><tr><td>413</td></tr><tr><td>414</td></tr><tr><td>415</td></tr><tr><td>416</td></tr><tr><td>417</td></tr><tr><td>418</td></tr><tr><td>419</td></tr><tr><td>420</td></tr><tr><td>421</td></tr><tr><td>422</td></tr><tr><td>423</td></tr><tr><td>424</td></tr><tr><td>425</td></tr><tr><td>426</td></tr><tr><td>427</td></tr><tr><td>428</td></tr><tr><td>429</td></tr><tr><td>430</td></tr><tr><td>431</td></tr><tr><td>432</td></tr><tr><td>433</td></tr><tr><td>434</td></tr><tr><td>435</td></tr><tr><td>436</td></tr><tr><td>437</td></tr><tr><td>438</td></tr><tr><td>439</td></tr><tr><td>440</td></tr><tr><td>441</td></tr><tr><td>442</td></tr><tr><td>443</td></tr><tr><td>444</td></tr><tr><td>445</td></tr><tr><td>446</td></tr><tr><td>447</td></tr><tr><td>448</td></tr><tr><td>449</td></tr><tr><td>450</td></tr><tr><td>451</td></tr><tr><td>452</td></tr><tr><td>453</td></tr><tr><td>454</td></tr><tr><td>455</td></tr><tr><td>456</td></tr><tr><td>457</td></tr><tr><td>458</td></tr><tr><td>459</td></tr><tr><td>460</td></tr><tr><td>461</td></tr><tr><td>462</td></tr><tr><td>463</td></tr><tr><td>464</td></tr><tr><td>465</td></tr><tr><td>466</td></tr><tr><td>467</td></tr><tr><td>468</td></tr><tr><td>469</td></tr><tr><td>470</td></tr><tr><td>471</td></tr><tr><td>472</td></tr><tr><td>473</td></tr><tr><td>474</td></tr><tr><td>475</td></tr><tr><td>476</td></tr><tr><td>477</td></tr><tr><td>478</td></tr><tr><td>479</td></tr><tr><td>480</td></tr><tr><td>481</td></tr><tr><td>482</td></tr><tr><td>483</td></tr><tr><td>484</td></tr><tr><td>485</td></tr><tr><td>486</td></tr><tr><td>487</td></tr><tr><td>488</td></tr><tr><td>489</td></tr><tr><td>490</td></tr><tr><td>491</td></tr><tr><td>492</td></tr><tr><td>493</td></tr><tr><td>494</td></tr><tr><td>495</td></tr><tr><td>496</td></tr><tr><td>497</td></tr><tr><td>498</td></tr><tr><td>499</td></tr><tr><td>500</td></tr><tr><td>501</td></tr><tr><td>502</td></tr><tr><td>503</td></tr><tr><td>504</td></tr><tr><td>505</td></tr><tr><td>506</td></tr><tr><td>507</td></tr><tr><td>508</td></tr><tr><td>509</td></tr><tr><td>510</td></tr><tr><td>511</td></tr><tr><td>512</td></tr><tr><td>513</td></tr><tr><td>514</td></tr><tr><td>515</td></tr><tr><td>516</td></tr><tr><td>517</td></tr><tr><td>518</td></tr><tr><td>519</td></tr><tr><td>520</td></tr><tr><td>521</td></tr><tr><td>522</td></tr><tr><td>523</td></tr><tr><td>524</td></tr><tr><td>525</td></tr><tr><td>526</td></tr><tr><td>527</td></tr><tr><td>528</td></tr><tr><td>529</td></tr><tr><td>530</td></tr><tr><td>531</td></tr><tr><td>532</td></tr><tr><td>533</td></tr><tr><td>534</td></tr><tr><td>535</td></tr><tr><td>536</td></tr><tr><td>537</td></tr><tr><td>538</td></tr><tr><td>539</td></tr><tr><td>540</td></tr><tr><td>541</td></tr><tr><td>542</td></tr><tr><td>543</td></tr><tr><td>544</td></tr><tr><td>545</td></tr><tr><td>546</td></tr><tr><td>547</td></tr><tr><td>548</td></tr><tr><td>549</td></tr><tr><td>550</td></tr><tr><td>551</td></tr><tr><td>552</td></tr><tr><td>553</td></tr><tr><td>554</td></tr><tr><td>555</td></tr><tr><td>556</td></tr><tr><td>557</td></tr><tr><td>558</td></tr><tr><td>559</td></tr><tr><td>560</td></tr><tr><td>561</td></tr><tr><td>562</td></tr><tr><td>563</td></tr><tr><td>564</td></tr><tr><td>565</td></tr><tr><td>566</td></tr><tr><td>567</td></tr><tr><td>568</td></tr><tr><td>569</td></tr><tr><td>570</td></tr><tr><td>571</td></tr><tr><td>572</td></tr><tr><td>573</td></tr><tr><td>574</td></tr><tr><td>575</td></tr><tr><td>576</td></tr><tr><td>577</td></tr><tr><td>578</td></tr><tr><td>579</td></tr><tr><td>580</td></tr><tr><td>581</td></tr><tr><td>582</td></tr><tr><td>583</td></tr><tr><td>584</td></tr><tr><td>585</td></tr><tr><td>586</td></tr><tr><td>587</td></tr><tr><td>588</td></tr><tr><td>589</td></tr><tr><td>590</td></tr><tr><td>591</td></tr><tr><td>592</td></tr><tr><td>593</td></tr><tr><td>594</td></tr><tr><td>595</td></tr><tr><td>596</td></tr><tr><td>597</td></tr><tr><td>598</td></tr><tr><td>599</td></tr><tr><td>600</td></tr><tr><td>601</td></tr><tr><td>602</td></tr><tr><td>603</td></tr><tr><td>604</td></tr><tr><td>605</td></tr><tr><td>606</td></tr><tr><td>607</td></tr><tr><td>608</td></tr><tr><td>609</td></tr><tr><td>610</td></tr><tr><td>611</td></tr><tr><td>612</td></tr><tr><td>613</td></tr><tr><td>614</td></tr><tr><td>615</td></tr><tr><td>616</td></tr><tr><td>617</td></tr><tr><td>618</td></tr><tr><td>619</td></tr><tr><td>620</td></tr><tr><td>621</td></tr><tr><td>622</td></tr><tr><td>623</td></tr><tr><td>624</td></tr><tr><td>625</td></tr><tr><td>626</td></tr><tr><td>627</td></tr><tr><td>628</td></tr><tr><td>629</td></tr><tr><td>630</td></tr><tr><td>631</td></tr><tr><td>632</td></tr><tr><td>633</td></tr><tr><td>634</td></tr><tr><td>635</td></tr><tr><td>636</td></tr><tr><td>637</td></tr><tr><td>638</td></tr><tr><td>639</td></tr><tr><td>640</td></tr><tr><td>641</td></tr><tr><td>642</td></tr><tr><td>643</td></tr><tr><td>644</td></tr><tr><td>645</td></tr><tr><td>646</td></tr><tr><td>647</td></tr><tr><td>648</td></tr><tr><td>649</td></tr><tr><td>650</td></tr><tr><td>651</td></tr><tr><td>652</td></tr><tr><td>653</td></tr><tr><td>654</td></tr><tr><td>655</td></tr><tr><td>656</td></tr><tr><td>657</td></tr><tr><td>658</td></tr><tr><td>659</td></tr><tr><td>660</td></tr><tr><td>661</td></tr><tr><td>662</td></tr><tr><td>663</td></tr><tr><td>664</td></tr><tr><td>665</td></tr><tr><td>666</td></tr><tr><td>667</td></tr><tr><td>668</td></tr><tr><td>669</td></tr><tr><td>670</td></tr><tr><td>671</td></tr><tr><td>672</td></tr><tr><td>673</td></tr><tr><td>674</td></tr><tr><td>675</td></tr><tr><td>676</td></tr><tr><td>677</td></tr><tr><td>678</td></tr><tr><td>679</td></tr><tr><td>680</td></tr><tr><td>681</td></tr><tr><td>682</td></tr><tr><td>683</td></tr><tr><td>684</td></tr><tr><td>685</td></tr><tr><td>686</td></tr><tr><td>687</td></tr><tr><td>688</td></tr><tr><td>689</td></tr><tr><td>690</td></tr><tr><td>691</td></tr><tr><td>692</td></tr><tr><td>693</td></tr><tr><td>694</td></tr><tr><td>695</td></tr><tr><td>696</td></tr><tr><td>697</td></tr><tr><td>698</td></tr><tr><td>699</td></tr><tr><td>700</td></tr><tr><td>701</td></tr><tr><td>702</td></tr><tr><td>703</td></tr><tr><td>704</td></tr><tr><td>705</td></tr><tr><td>706</td></tr><tr><td>707</td></tr><tr><td>708</td></tr><tr><td>709</td></tr><tr><td>710</td></tr><tr><td>711</td></tr><tr><td>712</td></tr><tr><td>713</td></tr><tr><td>714</td></tr><tr><td>715</td></tr><tr><td>716</td></tr><tr><td>717</td></tr><tr><td>718</td></tr><tr><td>719</td></tr><tr><td>720</td></tr><tr><td>721</td></tr><tr><td>722</td></tr><tr><td>723</td></tr><tr><td>724</td></tr><tr><td>725</td></tr><tr><td>726</td></tr><tr><td>727</td></tr><tr><td>728</td></tr><tr><td>729</td></tr><tr><td>730</td></tr><tr><td>731</td></tr><tr><td>732</td></tr><tr><td>733</td></tr><tr><td>734</td></tr><tr><td>735</td></tr><tr><td>736</td></tr><tr><td>737</td></tr><tr><td>738</td></tr><tr><td>739</td></tr><tr><td>740</td></tr><tr><td>741</td></tr><tr><td>742</td></tr><tr><td>743</td></tr><tr><td>744</td></tr><tr><td>745</td></tr><tr><td>746</td></tr><tr><td>747</td></tr><tr><td>748</td></tr><tr><td>749</td></tr><tr><td>750</td></tr><tr><td>751</td></tr><tr><td>752</td></tr><tr><td>753</td></tr><tr><td>754</td></tr><tr><td>755</td></tr><tr><td>756</td></tr><tr><td>757</td></tr><tr><td>758</td></tr><tr><td>759</td></tr><tr><td>760</td></tr><tr><td>761</td></tr><tr><td>762</td></tr><tr><td>763</td></tr><tr><td>764</td></tr><tr><td>765</td></tr><tr><td>766</td></tr><tr><td>767</td></tr><tr><td>768</td></tr><tr><td>769</td></tr><tr><td>770</td></tr><tr><td>771</td></tr><tr><td>772</td></tr><tr><td>773</td></tr><tr><td>774</td></tr><tr><td>775</td></tr><tr><td>776</td></tr><tr><td>777</td></tr><tr><td>778</td></tr><tr><td>779</td></tr><tr><td>780</td></tr><tr><td>781</td></tr><tr><td>782</td></tr><tr><td>783</td></tr><tr><td>784</td></tr><tr><td>785</td></tr><tr><td>786</td></tr><tr><td>787</td></tr><tr><td>788</td></tr><tr><td>789</td></tr><tr><td>790</td></tr><tr><td>791</td></tr><tr><td>792</td></tr><tr><td>793</td></tr><tr><td>794</td></tr><tr><td>795</td></tr><tr><td>796</td></tr><tr><td>797</td></tr><tr><td>798</td></tr><tr><td>799</td></tr><tr><td>800</td></tr><tr><td>801</td></tr><tr><td>802</td></tr><tr><td>803</td></tr><tr><td>804</td></tr><tr><td>805</td></tr><tr><td>806</td></tr><tr><td>807</td></tr><tr><td>808</td></tr><tr><td>809</td></tr><tr><td>810</td></tr><tr><td>811</td></tr><tr><td>812</td></tr><tr><td>813</td></tr><tr><td>814</td></tr><tr><td>815</td></tr><tr><td>816</td></tr><tr><td>817</td></tr><tr><td>818</td></tr><tr><td>819</td></tr><tr><td>820</td></tr><tr><td>821</td></tr><tr><td>822</td></tr><tr><td>823</td></tr><tr><td>824</td></tr><tr><td>825</td></tr><tr><td>826</td></tr><tr><td>827</td></tr><tr><td>828</td></tr><tr><td>829</td></tr><tr><td>830</td></tr><tr><td>831</td></tr><tr><td>832</td></tr><tr><td>833</td></tr><tr><td>834</td></tr><tr><td>835</td></tr><tr><td>836</td></tr><tr><td>837</td></tr><tr><td>838</td></tr><tr><td>839</td></tr><tr><td>840</td></tr><tr><td>841</td></tr><tr><td>842</td></tr><tr><td>843</td></tr><tr><td>844</td></tr><tr><td>845</td></tr><tr><td>846</td></tr><tr><td>847</td></tr><tr><td>848</td></tr><tr><td>849</td></tr><tr><td>850</td></tr><tr><td>851</td></tr><tr><td>852</td></tr><tr><td>853</td></tr><tr><td>854</td></tr><tr><td>855</td></tr><tr><td>856</td></tr><tr><td>857</td></tr><tr><td>858</td></tr><tr><td>859</td></tr><tr><td>860</td></tr><tr><td>861</td></tr><tr><td>862</td></tr><tr><td>863</td></tr><tr><td>864</td></tr><tr><td>865</td></tr><tr><td>866</td></tr><tr><td>867</td></tr><tr><td>868</td></tr><tr><td>869</td></tr><tr><td>870</td></tr><tr><td>871</td></tr><tr><td>872</td></tr><tr><td>873</td></tr><tr><td>874</td></tr><tr><td>875</td></tr><tr><td>876</td></tr><tr><td>877</td></tr><tr><td>878</td></tr><tr><td>879</td></tr><tr><td>880</td></tr><tr><td>881</td></tr><tr><td>882</td></tr><tr><td>883</td></tr><tr><td>884</td></tr><tr><td>885</td></tr><tr><td>886</td></tr><tr><td>887</td></tr><tr><td>888</td></tr><tr><td>889</td></tr><tr><td>890</td></tr><tr><td>891</td></tr><tr><td>892</td></tr><tr><td>893</td></tr><tr><td>894</td></tr><tr><td>895</td></tr><tr><td>896</td></tr><tr><td>897</td></tr><tr><td>898</td></tr><tr><td>899</td></tr><tr><td>900</td></tr><tr><td>901</td></tr><tr><td>902</td></tr><tr><td>903</td></tr><tr><td>904</td></tr><tr><td>905</td></tr><tr><td>906</td></tr><tr><td>907</td></tr><tr><td>908</td></tr><tr><td>909</td></tr><tr><td>910</td></tr><tr><td>911</td></tr><tr><td>912</td></tr><tr><td>913</td></tr><tr><td>914</td></tr><tr><td>915</td></tr><tr><td>916</td></tr><tr><td>917</td></tr><tr><td>918</td></tr><tr><td>919</td></tr><tr><td>920</td></tr><tr><td>921</td></tr><tr><td>922</td></tr><tr><td>923</td></tr><tr><td>924</td></tr><tr><td>925</td></tr><tr><td>926</td></tr><tr><td>927</td></tr><tr><td>928</td></tr><tr><td>929</td></tr><tr><td>930</td></tr><tr><td>931</td></tr><tr><td>932</td></tr><tr><td>933</td></tr><tr><td>934</td></tr><tr><td>935</td></tr><tr><td>936</td></tr><tr><td>937</td></tr><tr><td>938</td></tr><tr><td>939</td></tr><tr><td>940</td></tr><tr><td>941</td></tr><tr><td>942</td></tr><tr><td>943</td></tr><tr><td>944</td></tr><tr><td>945</td></tr><tr><td>946</td></tr><tr><td>947</td></tr><tr><td>948</td></tr><tr><td>949</td></tr><tr><td>950</td></tr><tr><td>951</td></tr><tr><td>952</td></tr><tr><td>953</td></tr><tr><td>954</td></tr><tr><td>955</td></tr><tr><td>956</td></tr><tr><td>957</td></tr><tr><td>958</td></tr><tr><td>959</td></tr><tr><td>960</td></tr><tr><td>961</td></tr><tr><td>962</td></tr><tr><td>963</td></tr><tr><td>964</td></tr><tr><td>965</td></tr><tr><td>966</td></tr><tr><td>967</td></tr><tr><td>968</td></tr><tr><td>969</td></tr><tr><td>970</td></tr><tr><td>971</td></tr><tr><td>972</td></tr><tr><td>973</td></tr><tr><td>974</td></tr><tr><td>975</td></tr><tr><td>976</td></tr><tr><td>977</td></tr><tr><td>978</td></tr><tr><td>979</td></tr><tr><td>980</td></tr><tr><td>981</td></tr><tr><td>982</td></tr><tr><td>983</td></tr><tr><td>984</td></tr><tr><td>985</td></tr><tr><td>986</td></tr><tr><td>987</td></tr><tr><td>988</td></tr><tr><td>989</td></tr><tr><td>990</td></tr><tr><td>991</td></tr><tr><td>992</td></tr><tr><td>993</td></tr><tr><td>994</td></tr><tr><td>995</td></tr><tr><td>996</td></tr><tr><td>997</td></tr><tr><td>998</td></tr><tr><td>999</td></tr></tbody></table></div>"
      ]
     },
     "metadata": {
      "application/vnd.databricks.v1+output": {
       "addedWidgets": {},
       "aggData": [],
       "aggError": "",
       "aggOverflow": false,
       "aggSchema": [],
       "aggSeriesLimitReached": false,
       "aggType": "",
       "arguments": {},
       "columnCustomDisplayInfos": {},
       "data": [
        [
         0
        ],
        [
         1
        ],
        [
         2
        ],
        [
         3
        ],
        [
         4
        ],
        [
         5
        ],
        [
         6
        ],
        [
         7
        ],
        [
         8
        ],
        [
         9
        ],
        [
         10
        ],
        [
         11
        ],
        [
         12
        ],
        [
         13
        ],
        [
         14
        ],
        [
         15
        ],
        [
         16
        ],
        [
         17
        ],
        [
         18
        ],
        [
         19
        ],
        [
         20
        ],
        [
         21
        ],
        [
         22
        ],
        [
         23
        ],
        [
         24
        ],
        [
         25
        ],
        [
         26
        ],
        [
         27
        ],
        [
         28
        ],
        [
         29
        ],
        [
         30
        ],
        [
         31
        ],
        [
         32
        ],
        [
         33
        ],
        [
         34
        ],
        [
         35
        ],
        [
         36
        ],
        [
         37
        ],
        [
         38
        ],
        [
         39
        ],
        [
         40
        ],
        [
         41
        ],
        [
         42
        ],
        [
         43
        ],
        [
         44
        ],
        [
         45
        ],
        [
         46
        ],
        [
         47
        ],
        [
         48
        ],
        [
         49
        ],
        [
         50
        ],
        [
         51
        ],
        [
         52
        ],
        [
         53
        ],
        [
         54
        ],
        [
         55
        ],
        [
         56
        ],
        [
         57
        ],
        [
         58
        ],
        [
         59
        ],
        [
         60
        ],
        [
         61
        ],
        [
         62
        ],
        [
         63
        ],
        [
         64
        ],
        [
         65
        ],
        [
         66
        ],
        [
         67
        ],
        [
         68
        ],
        [
         69
        ],
        [
         70
        ],
        [
         71
        ],
        [
         72
        ],
        [
         73
        ],
        [
         74
        ],
        [
         75
        ],
        [
         76
        ],
        [
         77
        ],
        [
         78
        ],
        [
         79
        ],
        [
         80
        ],
        [
         81
        ],
        [
         82
        ],
        [
         83
        ],
        [
         84
        ],
        [
         85
        ],
        [
         86
        ],
        [
         87
        ],
        [
         88
        ],
        [
         89
        ],
        [
         90
        ],
        [
         91
        ],
        [
         92
        ],
        [
         93
        ],
        [
         94
        ],
        [
         95
        ],
        [
         96
        ],
        [
         97
        ],
        [
         98
        ],
        [
         99
        ],
        [
         100
        ],
        [
         101
        ],
        [
         102
        ],
        [
         103
        ],
        [
         104
        ],
        [
         105
        ],
        [
         106
        ],
        [
         107
        ],
        [
         108
        ],
        [
         109
        ],
        [
         110
        ],
        [
         111
        ],
        [
         112
        ],
        [
         113
        ],
        [
         114
        ],
        [
         115
        ],
        [
         116
        ],
        [
         117
        ],
        [
         118
        ],
        [
         119
        ],
        [
         120
        ],
        [
         121
        ],
        [
         122
        ],
        [
         123
        ],
        [
         124
        ],
        [
         125
        ],
        [
         126
        ],
        [
         127
        ],
        [
         128
        ],
        [
         129
        ],
        [
         130
        ],
        [
         131
        ],
        [
         132
        ],
        [
         133
        ],
        [
         134
        ],
        [
         135
        ],
        [
         136
        ],
        [
         137
        ],
        [
         138
        ],
        [
         139
        ],
        [
         140
        ],
        [
         141
        ],
        [
         142
        ],
        [
         143
        ],
        [
         144
        ],
        [
         145
        ],
        [
         146
        ],
        [
         147
        ],
        [
         148
        ],
        [
         149
        ],
        [
         150
        ],
        [
         151
        ],
        [
         152
        ],
        [
         153
        ],
        [
         154
        ],
        [
         155
        ],
        [
         156
        ],
        [
         157
        ],
        [
         158
        ],
        [
         159
        ],
        [
         160
        ],
        [
         161
        ],
        [
         162
        ],
        [
         163
        ],
        [
         164
        ],
        [
         165
        ],
        [
         166
        ],
        [
         167
        ],
        [
         168
        ],
        [
         169
        ],
        [
         170
        ],
        [
         171
        ],
        [
         172
        ],
        [
         173
        ],
        [
         174
        ],
        [
         175
        ],
        [
         176
        ],
        [
         177
        ],
        [
         178
        ],
        [
         179
        ],
        [
         180
        ],
        [
         181
        ],
        [
         182
        ],
        [
         183
        ],
        [
         184
        ],
        [
         185
        ],
        [
         186
        ],
        [
         187
        ],
        [
         188
        ],
        [
         189
        ],
        [
         190
        ],
        [
         191
        ],
        [
         192
        ],
        [
         193
        ],
        [
         194
        ],
        [
         195
        ],
        [
         196
        ],
        [
         197
        ],
        [
         198
        ],
        [
         199
        ],
        [
         200
        ],
        [
         201
        ],
        [
         202
        ],
        [
         203
        ],
        [
         204
        ],
        [
         205
        ],
        [
         206
        ],
        [
         207
        ],
        [
         208
        ],
        [
         209
        ],
        [
         210
        ],
        [
         211
        ],
        [
         212
        ],
        [
         213
        ],
        [
         214
        ],
        [
         215
        ],
        [
         216
        ],
        [
         217
        ],
        [
         218
        ],
        [
         219
        ],
        [
         220
        ],
        [
         221
        ],
        [
         222
        ],
        [
         223
        ],
        [
         224
        ],
        [
         225
        ],
        [
         226
        ],
        [
         227
        ],
        [
         228
        ],
        [
         229
        ],
        [
         230
        ],
        [
         231
        ],
        [
         232
        ],
        [
         233
        ],
        [
         234
        ],
        [
         235
        ],
        [
         236
        ],
        [
         237
        ],
        [
         238
        ],
        [
         239
        ],
        [
         240
        ],
        [
         241
        ],
        [
         242
        ],
        [
         243
        ],
        [
         244
        ],
        [
         245
        ],
        [
         246
        ],
        [
         247
        ],
        [
         248
        ],
        [
         249
        ],
        [
         250
        ],
        [
         251
        ],
        [
         252
        ],
        [
         253
        ],
        [
         254
        ],
        [
         255
        ],
        [
         256
        ],
        [
         257
        ],
        [
         258
        ],
        [
         259
        ],
        [
         260
        ],
        [
         261
        ],
        [
         262
        ],
        [
         263
        ],
        [
         264
        ],
        [
         265
        ],
        [
         266
        ],
        [
         267
        ],
        [
         268
        ],
        [
         269
        ],
        [
         270
        ],
        [
         271
        ],
        [
         272
        ],
        [
         273
        ],
        [
         274
        ],
        [
         275
        ],
        [
         276
        ],
        [
         277
        ],
        [
         278
        ],
        [
         279
        ],
        [
         280
        ],
        [
         281
        ],
        [
         282
        ],
        [
         283
        ],
        [
         284
        ],
        [
         285
        ],
        [
         286
        ],
        [
         287
        ],
        [
         288
        ],
        [
         289
        ],
        [
         290
        ],
        [
         291
        ],
        [
         292
        ],
        [
         293
        ],
        [
         294
        ],
        [
         295
        ],
        [
         296
        ],
        [
         297
        ],
        [
         298
        ],
        [
         299
        ],
        [
         300
        ],
        [
         301
        ],
        [
         302
        ],
        [
         303
        ],
        [
         304
        ],
        [
         305
        ],
        [
         306
        ],
        [
         307
        ],
        [
         308
        ],
        [
         309
        ],
        [
         310
        ],
        [
         311
        ],
        [
         312
        ],
        [
         313
        ],
        [
         314
        ],
        [
         315
        ],
        [
         316
        ],
        [
         317
        ],
        [
         318
        ],
        [
         319
        ],
        [
         320
        ],
        [
         321
        ],
        [
         322
        ],
        [
         323
        ],
        [
         324
        ],
        [
         325
        ],
        [
         326
        ],
        [
         327
        ],
        [
         328
        ],
        [
         329
        ],
        [
         330
        ],
        [
         331
        ],
        [
         332
        ],
        [
         333
        ],
        [
         334
        ],
        [
         335
        ],
        [
         336
        ],
        [
         337
        ],
        [
         338
        ],
        [
         339
        ],
        [
         340
        ],
        [
         341
        ],
        [
         342
        ],
        [
         343
        ],
        [
         344
        ],
        [
         345
        ],
        [
         346
        ],
        [
         347
        ],
        [
         348
        ],
        [
         349
        ],
        [
         350
        ],
        [
         351
        ],
        [
         352
        ],
        [
         353
        ],
        [
         354
        ],
        [
         355
        ],
        [
         356
        ],
        [
         357
        ],
        [
         358
        ],
        [
         359
        ],
        [
         360
        ],
        [
         361
        ],
        [
         362
        ],
        [
         363
        ],
        [
         364
        ],
        [
         365
        ],
        [
         366
        ],
        [
         367
        ],
        [
         368
        ],
        [
         369
        ],
        [
         370
        ],
        [
         371
        ],
        [
         372
        ],
        [
         373
        ],
        [
         374
        ],
        [
         375
        ],
        [
         376
        ],
        [
         377
        ],
        [
         378
        ],
        [
         379
        ],
        [
         380
        ],
        [
         381
        ],
        [
         382
        ],
        [
         383
        ],
        [
         384
        ],
        [
         385
        ],
        [
         386
        ],
        [
         387
        ],
        [
         388
        ],
        [
         389
        ],
        [
         390
        ],
        [
         391
        ],
        [
         392
        ],
        [
         393
        ],
        [
         394
        ],
        [
         395
        ],
        [
         396
        ],
        [
         397
        ],
        [
         398
        ],
        [
         399
        ],
        [
         400
        ],
        [
         401
        ],
        [
         402
        ],
        [
         403
        ],
        [
         404
        ],
        [
         405
        ],
        [
         406
        ],
        [
         407
        ],
        [
         408
        ],
        [
         409
        ],
        [
         410
        ],
        [
         411
        ],
        [
         412
        ],
        [
         413
        ],
        [
         414
        ],
        [
         415
        ],
        [
         416
        ],
        [
         417
        ],
        [
         418
        ],
        [
         419
        ],
        [
         420
        ],
        [
         421
        ],
        [
         422
        ],
        [
         423
        ],
        [
         424
        ],
        [
         425
        ],
        [
         426
        ],
        [
         427
        ],
        [
         428
        ],
        [
         429
        ],
        [
         430
        ],
        [
         431
        ],
        [
         432
        ],
        [
         433
        ],
        [
         434
        ],
        [
         435
        ],
        [
         436
        ],
        [
         437
        ],
        [
         438
        ],
        [
         439
        ],
        [
         440
        ],
        [
         441
        ],
        [
         442
        ],
        [
         443
        ],
        [
         444
        ],
        [
         445
        ],
        [
         446
        ],
        [
         447
        ],
        [
         448
        ],
        [
         449
        ],
        [
         450
        ],
        [
         451
        ],
        [
         452
        ],
        [
         453
        ],
        [
         454
        ],
        [
         455
        ],
        [
         456
        ],
        [
         457
        ],
        [
         458
        ],
        [
         459
        ],
        [
         460
        ],
        [
         461
        ],
        [
         462
        ],
        [
         463
        ],
        [
         464
        ],
        [
         465
        ],
        [
         466
        ],
        [
         467
        ],
        [
         468
        ],
        [
         469
        ],
        [
         470
        ],
        [
         471
        ],
        [
         472
        ],
        [
         473
        ],
        [
         474
        ],
        [
         475
        ],
        [
         476
        ],
        [
         477
        ],
        [
         478
        ],
        [
         479
        ],
        [
         480
        ],
        [
         481
        ],
        [
         482
        ],
        [
         483
        ],
        [
         484
        ],
        [
         485
        ],
        [
         486
        ],
        [
         487
        ],
        [
         488
        ],
        [
         489
        ],
        [
         490
        ],
        [
         491
        ],
        [
         492
        ],
        [
         493
        ],
        [
         494
        ],
        [
         495
        ],
        [
         496
        ],
        [
         497
        ],
        [
         498
        ],
        [
         499
        ],
        [
         500
        ],
        [
         501
        ],
        [
         502
        ],
        [
         503
        ],
        [
         504
        ],
        [
         505
        ],
        [
         506
        ],
        [
         507
        ],
        [
         508
        ],
        [
         509
        ],
        [
         510
        ],
        [
         511
        ],
        [
         512
        ],
        [
         513
        ],
        [
         514
        ],
        [
         515
        ],
        [
         516
        ],
        [
         517
        ],
        [
         518
        ],
        [
         519
        ],
        [
         520
        ],
        [
         521
        ],
        [
         522
        ],
        [
         523
        ],
        [
         524
        ],
        [
         525
        ],
        [
         526
        ],
        [
         527
        ],
        [
         528
        ],
        [
         529
        ],
        [
         530
        ],
        [
         531
        ],
        [
         532
        ],
        [
         533
        ],
        [
         534
        ],
        [
         535
        ],
        [
         536
        ],
        [
         537
        ],
        [
         538
        ],
        [
         539
        ],
        [
         540
        ],
        [
         541
        ],
        [
         542
        ],
        [
         543
        ],
        [
         544
        ],
        [
         545
        ],
        [
         546
        ],
        [
         547
        ],
        [
         548
        ],
        [
         549
        ],
        [
         550
        ],
        [
         551
        ],
        [
         552
        ],
        [
         553
        ],
        [
         554
        ],
        [
         555
        ],
        [
         556
        ],
        [
         557
        ],
        [
         558
        ],
        [
         559
        ],
        [
         560
        ],
        [
         561
        ],
        [
         562
        ],
        [
         563
        ],
        [
         564
        ],
        [
         565
        ],
        [
         566
        ],
        [
         567
        ],
        [
         568
        ],
        [
         569
        ],
        [
         570
        ],
        [
         571
        ],
        [
         572
        ],
        [
         573
        ],
        [
         574
        ],
        [
         575
        ],
        [
         576
        ],
        [
         577
        ],
        [
         578
        ],
        [
         579
        ],
        [
         580
        ],
        [
         581
        ],
        [
         582
        ],
        [
         583
        ],
        [
         584
        ],
        [
         585
        ],
        [
         586
        ],
        [
         587
        ],
        [
         588
        ],
        [
         589
        ],
        [
         590
        ],
        [
         591
        ],
        [
         592
        ],
        [
         593
        ],
        [
         594
        ],
        [
         595
        ],
        [
         596
        ],
        [
         597
        ],
        [
         598
        ],
        [
         599
        ],
        [
         600
        ],
        [
         601
        ],
        [
         602
        ],
        [
         603
        ],
        [
         604
        ],
        [
         605
        ],
        [
         606
        ],
        [
         607
        ],
        [
         608
        ],
        [
         609
        ],
        [
         610
        ],
        [
         611
        ],
        [
         612
        ],
        [
         613
        ],
        [
         614
        ],
        [
         615
        ],
        [
         616
        ],
        [
         617
        ],
        [
         618
        ],
        [
         619
        ],
        [
         620
        ],
        [
         621
        ],
        [
         622
        ],
        [
         623
        ],
        [
         624
        ],
        [
         625
        ],
        [
         626
        ],
        [
         627
        ],
        [
         628
        ],
        [
         629
        ],
        [
         630
        ],
        [
         631
        ],
        [
         632
        ],
        [
         633
        ],
        [
         634
        ],
        [
         635
        ],
        [
         636
        ],
        [
         637
        ],
        [
         638
        ],
        [
         639
        ],
        [
         640
        ],
        [
         641
        ],
        [
         642
        ],
        [
         643
        ],
        [
         644
        ],
        [
         645
        ],
        [
         646
        ],
        [
         647
        ],
        [
         648
        ],
        [
         649
        ],
        [
         650
        ],
        [
         651
        ],
        [
         652
        ],
        [
         653
        ],
        [
         654
        ],
        [
         655
        ],
        [
         656
        ],
        [
         657
        ],
        [
         658
        ],
        [
         659
        ],
        [
         660
        ],
        [
         661
        ],
        [
         662
        ],
        [
         663
        ],
        [
         664
        ],
        [
         665
        ],
        [
         666
        ],
        [
         667
        ],
        [
         668
        ],
        [
         669
        ],
        [
         670
        ],
        [
         671
        ],
        [
         672
        ],
        [
         673
        ],
        [
         674
        ],
        [
         675
        ],
        [
         676
        ],
        [
         677
        ],
        [
         678
        ],
        [
         679
        ],
        [
         680
        ],
        [
         681
        ],
        [
         682
        ],
        [
         683
        ],
        [
         684
        ],
        [
         685
        ],
        [
         686
        ],
        [
         687
        ],
        [
         688
        ],
        [
         689
        ],
        [
         690
        ],
        [
         691
        ],
        [
         692
        ],
        [
         693
        ],
        [
         694
        ],
        [
         695
        ],
        [
         696
        ],
        [
         697
        ],
        [
         698
        ],
        [
         699
        ],
        [
         700
        ],
        [
         701
        ],
        [
         702
        ],
        [
         703
        ],
        [
         704
        ],
        [
         705
        ],
        [
         706
        ],
        [
         707
        ],
        [
         708
        ],
        [
         709
        ],
        [
         710
        ],
        [
         711
        ],
        [
         712
        ],
        [
         713
        ],
        [
         714
        ],
        [
         715
        ],
        [
         716
        ],
        [
         717
        ],
        [
         718
        ],
        [
         719
        ],
        [
         720
        ],
        [
         721
        ],
        [
         722
        ],
        [
         723
        ],
        [
         724
        ],
        [
         725
        ],
        [
         726
        ],
        [
         727
        ],
        [
         728
        ],
        [
         729
        ],
        [
         730
        ],
        [
         731
        ],
        [
         732
        ],
        [
         733
        ],
        [
         734
        ],
        [
         735
        ],
        [
         736
        ],
        [
         737
        ],
        [
         738
        ],
        [
         739
        ],
        [
         740
        ],
        [
         741
        ],
        [
         742
        ],
        [
         743
        ],
        [
         744
        ],
        [
         745
        ],
        [
         746
        ],
        [
         747
        ],
        [
         748
        ],
        [
         749
        ],
        [
         750
        ],
        [
         751
        ],
        [
         752
        ],
        [
         753
        ],
        [
         754
        ],
        [
         755
        ],
        [
         756
        ],
        [
         757
        ],
        [
         758
        ],
        [
         759
        ],
        [
         760
        ],
        [
         761
        ],
        [
         762
        ],
        [
         763
        ],
        [
         764
        ],
        [
         765
        ],
        [
         766
        ],
        [
         767
        ],
        [
         768
        ],
        [
         769
        ],
        [
         770
        ],
        [
         771
        ],
        [
         772
        ],
        [
         773
        ],
        [
         774
        ],
        [
         775
        ],
        [
         776
        ],
        [
         777
        ],
        [
         778
        ],
        [
         779
        ],
        [
         780
        ],
        [
         781
        ],
        [
         782
        ],
        [
         783
        ],
        [
         784
        ],
        [
         785
        ],
        [
         786
        ],
        [
         787
        ],
        [
         788
        ],
        [
         789
        ],
        [
         790
        ],
        [
         791
        ],
        [
         792
        ],
        [
         793
        ],
        [
         794
        ],
        [
         795
        ],
        [
         796
        ],
        [
         797
        ],
        [
         798
        ],
        [
         799
        ],
        [
         800
        ],
        [
         801
        ],
        [
         802
        ],
        [
         803
        ],
        [
         804
        ],
        [
         805
        ],
        [
         806
        ],
        [
         807
        ],
        [
         808
        ],
        [
         809
        ],
        [
         810
        ],
        [
         811
        ],
        [
         812
        ],
        [
         813
        ],
        [
         814
        ],
        [
         815
        ],
        [
         816
        ],
        [
         817
        ],
        [
         818
        ],
        [
         819
        ],
        [
         820
        ],
        [
         821
        ],
        [
         822
        ],
        [
         823
        ],
        [
         824
        ],
        [
         825
        ],
        [
         826
        ],
        [
         827
        ],
        [
         828
        ],
        [
         829
        ],
        [
         830
        ],
        [
         831
        ],
        [
         832
        ],
        [
         833
        ],
        [
         834
        ],
        [
         835
        ],
        [
         836
        ],
        [
         837
        ],
        [
         838
        ],
        [
         839
        ],
        [
         840
        ],
        [
         841
        ],
        [
         842
        ],
        [
         843
        ],
        [
         844
        ],
        [
         845
        ],
        [
         846
        ],
        [
         847
        ],
        [
         848
        ],
        [
         849
        ],
        [
         850
        ],
        [
         851
        ],
        [
         852
        ],
        [
         853
        ],
        [
         854
        ],
        [
         855
        ],
        [
         856
        ],
        [
         857
        ],
        [
         858
        ],
        [
         859
        ],
        [
         860
        ],
        [
         861
        ],
        [
         862
        ],
        [
         863
        ],
        [
         864
        ],
        [
         865
        ],
        [
         866
        ],
        [
         867
        ],
        [
         868
        ],
        [
         869
        ],
        [
         870
        ],
        [
         871
        ],
        [
         872
        ],
        [
         873
        ],
        [
         874
        ],
        [
         875
        ],
        [
         876
        ],
        [
         877
        ],
        [
         878
        ],
        [
         879
        ],
        [
         880
        ],
        [
         881
        ],
        [
         882
        ],
        [
         883
        ],
        [
         884
        ],
        [
         885
        ],
        [
         886
        ],
        [
         887
        ],
        [
         888
        ],
        [
         889
        ],
        [
         890
        ],
        [
         891
        ],
        [
         892
        ],
        [
         893
        ],
        [
         894
        ],
        [
         895
        ],
        [
         896
        ],
        [
         897
        ],
        [
         898
        ],
        [
         899
        ],
        [
         900
        ],
        [
         901
        ],
        [
         902
        ],
        [
         903
        ],
        [
         904
        ],
        [
         905
        ],
        [
         906
        ],
        [
         907
        ],
        [
         908
        ],
        [
         909
        ],
        [
         910
        ],
        [
         911
        ],
        [
         912
        ],
        [
         913
        ],
        [
         914
        ],
        [
         915
        ],
        [
         916
        ],
        [
         917
        ],
        [
         918
        ],
        [
         919
        ],
        [
         920
        ],
        [
         921
        ],
        [
         922
        ],
        [
         923
        ],
        [
         924
        ],
        [
         925
        ],
        [
         926
        ],
        [
         927
        ],
        [
         928
        ],
        [
         929
        ],
        [
         930
        ],
        [
         931
        ],
        [
         932
        ],
        [
         933
        ],
        [
         934
        ],
        [
         935
        ],
        [
         936
        ],
        [
         937
        ],
        [
         938
        ],
        [
         939
        ],
        [
         940
        ],
        [
         941
        ],
        [
         942
        ],
        [
         943
        ],
        [
         944
        ],
        [
         945
        ],
        [
         946
        ],
        [
         947
        ],
        [
         948
        ],
        [
         949
        ],
        [
         950
        ],
        [
         951
        ],
        [
         952
        ],
        [
         953
        ],
        [
         954
        ],
        [
         955
        ],
        [
         956
        ],
        [
         957
        ],
        [
         958
        ],
        [
         959
        ],
        [
         960
        ],
        [
         961
        ],
        [
         962
        ],
        [
         963
        ],
        [
         964
        ],
        [
         965
        ],
        [
         966
        ],
        [
         967
        ],
        [
         968
        ],
        [
         969
        ],
        [
         970
        ],
        [
         971
        ],
        [
         972
        ],
        [
         973
        ],
        [
         974
        ],
        [
         975
        ],
        [
         976
        ],
        [
         977
        ],
        [
         978
        ],
        [
         979
        ],
        [
         980
        ],
        [
         981
        ],
        [
         982
        ],
        [
         983
        ],
        [
         984
        ],
        [
         985
        ],
        [
         986
        ],
        [
         987
        ],
        [
         988
        ],
        [
         989
        ],
        [
         990
        ],
        [
         991
        ],
        [
         992
        ],
        [
         993
        ],
        [
         994
        ],
        [
         995
        ],
        [
         996
        ],
        [
         997
        ],
        [
         998
        ],
        [
         999
        ]
       ],
       "datasetInfos": [],
       "dbfsResultPath": null,
       "isJsonSchema": true,
       "metadata": {},
       "overflow": false,
       "plotOptions": {
        "customPlotOptions": {},
        "displayType": "table",
        "pivotAggregation": null,
        "pivotColumns": null,
        "xColumns": null,
        "yColumns": null
       },
       "removedWidgets": [],
       "schema": [
        {
         "metadata": "{}",
         "name": "number",
         "type": "\"long\""
        }
       ],
       "type": "table"
      }
     },
     "output_type": "display_data"
    }
   ],
   "source": [
    "myRange.display()"
   ]
  },
  {
   "cell_type": "code",
   "execution_count": 0,
   "metadata": {
    "application/vnd.databricks.v1+cell": {
     "cellMetadata": {
      "byteLimit": 2048000,
      "rowLimit": 10000
     },
     "inputWidgets": {},
     "nuid": "1c1b0d16-ffc5-418b-a02a-6c4e09f4f39c",
     "showTitle": false,
     "title": ""
    }
   },
   "outputs": [
    {
     "output_type": "display_data",
     "data": {
      "text/html": [
       "<style scoped>\n",
       "  .ansiout {\n",
       "    display: block;\n",
       "    unicode-bidi: embed;\n",
       "    white-space: pre-wrap;\n",
       "    word-wrap: break-word;\n",
       "    word-break: break-all;\n",
       "    font-family: \"Menlo\", \"Monaco\", \"Consolas\", \"Ubuntu Mono\", \"Source Code Pro\", monospace;\n",
       "    font-size: 13px;\n",
       "    color: #555;\n",
       "    margin-left: 4px;\n",
       "    line-height: 19px;\n",
       "  }\n",
       "</style>\n",
       "<div class=\"ansiout\">+---+\n",
       "  n|\n",
       "+---+\n",
       "  0|\n",
       "  1|\n",
       "  2|\n",
       "  3|\n",
       "  4|\n",
       "  5|\n",
       "  6|\n",
       "  7|\n",
       "  8|\n",
       "  9|\n",
       " 10|\n",
       " 11|\n",
       " 12|\n",
       " 13|\n",
       " 14|\n",
       " 15|\n",
       " 16|\n",
       " 17|\n",
       " 18|\n",
       " 19|\n",
       "+---+\n",
       "only showing top 20 rows\n",
       "\n",
       "</div>"
      ]
     },
     "metadata": {
      "application/vnd.databricks.v1+output": {
       "addedWidgets": {},
       "arguments": {},
       "data": "<div class=\"ansiout\">+---+\n|  n|\n+---+\n|  0|\n|  1|\n|  2|\n|  3|\n|  4|\n|  5|\n|  6|\n|  7|\n|  8|\n|  9|\n| 10|\n| 11|\n| 12|\n| 13|\n| 14|\n| 15|\n| 16|\n| 17|\n| 18|\n| 19|\n+---+\nonly showing top 20 rows\n\n</div>",
       "datasetInfos": [],
       "metadata": {
        "isDbfsCommandResult": false
       },
       "removedWidgets": [],
       "type": "html"
      }
     },
     "output_type": "display_data"
    }
   ],
   "source": [
    "%scala\n",
    "myRange.show()"
   ]
  },
  {
   "cell_type": "markdown",
   "metadata": {
    "application/vnd.databricks.v1+cell": {
     "cellMetadata": {},
     "inputWidgets": {},
     "nuid": "fe98cf70-a209-478f-8af7-609393d9be7a",
     "showTitle": false,
     "title": ""
    }
   },
   "source": [
    "## 2.7 트랜스포메이션\n",
    "- 좁은 의존성 (narrow dependency)\n",
    "- 넓은 의존성 (wide dependency)"
   ]
  },
  {
   "cell_type": "code",
   "execution_count": 0,
   "metadata": {
    "application/vnd.databricks.v1+cell": {
     "cellMetadata": {
      "byteLimit": 2048000,
      "rowLimit": 10000
     },
     "inputWidgets": {},
     "nuid": "991887fa-6464-4f6c-92a4-d8acf4806ef4",
     "showTitle": false,
     "title": ""
    }
   },
   "outputs": [],
   "source": [
    "divisBy2 = myRange.where(\"number % 2 = 0\")"
   ]
  },
  {
   "cell_type": "markdown",
   "metadata": {
    "application/vnd.databricks.v1+cell": {
     "cellMetadata": {},
     "inputWidgets": {},
     "nuid": "2b6f9259-a20f-453f-8cab-27daef81a2d7",
     "showTitle": false,
     "title": ""
    }
   },
   "source": [
    "## 2.8 액션\n",
    "- 실제 연산을 수행하려면 action 명령을 내려야 한다. \n",
    "- 일련의 transformation 으로부터 결과를 계산하도록 지시하는 명령어"
   ]
  },
  {
   "cell_type": "code",
   "execution_count": 0,
   "metadata": {
    "application/vnd.databricks.v1+cell": {
     "cellMetadata": {
      "byteLimit": 2048000,
      "rowLimit": 10000
     },
     "inputWidgets": {},
     "nuid": "a6e4c4b2-1e81-4018-8b8f-6f248cdd05da",
     "showTitle": false,
     "title": ""
    }
   },
   "outputs": [
    {
     "output_type": "stream",
     "name": "stdout",
     "output_type": "stream",
     "text": [
      "Out[18]: 500"
     ]
    }
   ],
   "source": [
    "divisBy2.count()"
   ]
  },
  {
   "cell_type": "markdown",
   "metadata": {
    "application/vnd.databricks.v1+cell": {
     "cellMetadata": {},
     "inputWidgets": {},
     "nuid": "19334cbc-16d0-464b-8761-2ee045a2e907",
     "showTitle": false,
     "title": ""
    }
   },
   "source": [
    "## 2.10 종합 예제\n",
    "- SparkSession 의 DataFrameReader 클래스를 사용해서 데이터를 읽는다. "
   ]
  },
  {
   "cell_type": "code",
   "execution_count": 0,
   "metadata": {
    "application/vnd.databricks.v1+cell": {
     "cellMetadata": {
      "byteLimit": 2048000,
      "rowLimit": 10000
     },
     "inputWidgets": {},
     "nuid": "47006543-2841-4410-88a8-7b6ab74443db",
     "showTitle": false,
     "title": ""
    }
   },
   "outputs": [],
   "source": [
    "flightData2015 = spark\\\n",
    "    .read\\\n",
    "    .option(\"inferSchema\", \"true\")\\\n",
    "    .option(\"header\", \"true\")\\\n",
    "    .csv(\"dbfs:/FileStore/shared_uploads/mjwoo0@naver.com/2015_summary.csv\")"
   ]
  },
  {
   "cell_type": "code",
   "execution_count": 0,
   "metadata": {
    "application/vnd.databricks.v1+cell": {
     "cellMetadata": {
      "byteLimit": 2048000,
      "rowLimit": 10000
     },
     "inputWidgets": {},
     "nuid": "2c9c46d1-20e2-4c58-97f2-66a1d56abc14",
     "showTitle": false,
     "title": ""
    }
   },
   "outputs": [
    {
     "output_type": "display_data",
     "data": {
      "text/html": [
       "<style scoped>\n",
       "  .table-result-container {\n",
       "    max-height: 300px;\n",
       "    overflow: auto;\n",
       "  }\n",
       "  table, th, td {\n",
       "    border: 1px solid black;\n",
       "    border-collapse: collapse;\n",
       "  }\n",
       "  th, td {\n",
       "    padding: 5px;\n",
       "  }\n",
       "  th {\n",
       "    text-align: left;\n",
       "  }\n",
       "</style><div class='table-result-container'><table class='table-result'><thead style='background-color: white'><tr><th>DEST_COUNTRY_NAME</th><th>ORIGIN_COUNTRY_NAME</th><th>count</th></tr></thead><tbody><tr><td>United States</td><td>Romania</td><td>15</td></tr><tr><td>United States</td><td>Croatia</td><td>1</td></tr><tr><td>United States</td><td>Ireland</td><td>344</td></tr><tr><td>Egypt</td><td>United States</td><td>15</td></tr><tr><td>United States</td><td>India</td><td>62</td></tr><tr><td>United States</td><td>Singapore</td><td>1</td></tr><tr><td>United States</td><td>Grenada</td><td>62</td></tr><tr><td>Costa Rica</td><td>United States</td><td>588</td></tr><tr><td>Senegal</td><td>United States</td><td>40</td></tr><tr><td>Moldova</td><td>United States</td><td>1</td></tr><tr><td>United States</td><td>Sint Maarten</td><td>325</td></tr><tr><td>United States</td><td>Marshall Islands</td><td>39</td></tr><tr><td>Guyana</td><td>United States</td><td>64</td></tr><tr><td>Malta</td><td>United States</td><td>1</td></tr><tr><td>Anguilla</td><td>United States</td><td>41</td></tr><tr><td>Bolivia</td><td>United States</td><td>30</td></tr><tr><td>United States</td><td>Paraguay</td><td>6</td></tr><tr><td>Algeria</td><td>United States</td><td>4</td></tr><tr><td>Turks and Caicos Islands</td><td>United States</td><td>230</td></tr><tr><td>United States</td><td>Gibraltar</td><td>1</td></tr><tr><td>Saint Vincent and the Grenadines</td><td>United States</td><td>1</td></tr><tr><td>Italy</td><td>United States</td><td>382</td></tr><tr><td>United States</td><td>Federated States of Micronesia</td><td>69</td></tr><tr><td>United States</td><td>Russia</td><td>161</td></tr><tr><td>Pakistan</td><td>United States</td><td>12</td></tr><tr><td>United States</td><td>Netherlands</td><td>660</td></tr><tr><td>Iceland</td><td>United States</td><td>181</td></tr><tr><td>Marshall Islands</td><td>United States</td><td>42</td></tr><tr><td>Luxembourg</td><td>United States</td><td>155</td></tr><tr><td>Honduras</td><td>United States</td><td>362</td></tr><tr><td>The Bahamas</td><td>United States</td><td>955</td></tr><tr><td>United States</td><td>Senegal</td><td>42</td></tr><tr><td>El Salvador</td><td>United States</td><td>561</td></tr><tr><td>Samoa</td><td>United States</td><td>25</td></tr><tr><td>United States</td><td>Angola</td><td>13</td></tr><tr><td>Switzerland</td><td>United States</td><td>294</td></tr><tr><td>United States</td><td>Anguilla</td><td>38</td></tr><tr><td>Sint Maarten</td><td>United States</td><td>325</td></tr><tr><td>Hong Kong</td><td>United States</td><td>332</td></tr><tr><td>Trinidad and Tobago</td><td>United States</td><td>211</td></tr><tr><td>Latvia</td><td>United States</td><td>19</td></tr><tr><td>United States</td><td>Ecuador</td><td>300</td></tr><tr><td>Suriname</td><td>United States</td><td>1</td></tr><tr><td>Mexico</td><td>United States</td><td>7140</td></tr><tr><td>United States</td><td>Cyprus</td><td>1</td></tr><tr><td>Ecuador</td><td>United States</td><td>268</td></tr><tr><td>United States</td><td>Portugal</td><td>134</td></tr><tr><td>United States</td><td>Costa Rica</td><td>608</td></tr><tr><td>United States</td><td>Guatemala</td><td>318</td></tr><tr><td>United States</td><td>Suriname</td><td>34</td></tr><tr><td>Colombia</td><td>United States</td><td>873</td></tr><tr><td>United States</td><td>Cape Verde</td><td>14</td></tr><tr><td>United States</td><td>Jamaica</td><td>712</td></tr><tr><td>Norway</td><td>United States</td><td>121</td></tr><tr><td>United States</td><td>Malaysia</td><td>3</td></tr><tr><td>United States</td><td>Morocco</td><td>19</td></tr><tr><td>Thailand</td><td>United States</td><td>3</td></tr><tr><td>United States</td><td>Samoa</td><td>25</td></tr><tr><td>Venezuela</td><td>United States</td><td>290</td></tr><tr><td>United States</td><td>Palau</td><td>31</td></tr><tr><td>United States</td><td>Venezuela</td><td>246</td></tr><tr><td>Panama</td><td>United States</td><td>510</td></tr><tr><td>Antigua and Barbuda</td><td>United States</td><td>126</td></tr><tr><td>United States</td><td>Chile</td><td>185</td></tr><tr><td>Morocco</td><td>United States</td><td>15</td></tr><tr><td>United States</td><td>Finland</td><td>28</td></tr><tr><td>Azerbaijan</td><td>United States</td><td>21</td></tr><tr><td>United States</td><td>Greece</td><td>23</td></tr><tr><td>United States</td><td>The Bahamas</td><td>986</td></tr><tr><td>New Zealand</td><td>United States</td><td>111</td></tr><tr><td>Liberia</td><td>United States</td><td>2</td></tr><tr><td>United States</td><td>Hong Kong</td><td>414</td></tr><tr><td>Hungary</td><td>United States</td><td>2</td></tr><tr><td>United States</td><td>China</td><td>920</td></tr><tr><td>United States</td><td>Vietnam</td><td>2</td></tr><tr><td>Burkina Faso</td><td>United States</td><td>1</td></tr><tr><td>Sweden</td><td>United States</td><td>118</td></tr><tr><td>United States</td><td>Kuwait</td><td>28</td></tr><tr><td>United States</td><td>Dominican Republic</td><td>1420</td></tr><tr><td>United States</td><td>Egypt</td><td>12</td></tr><tr><td>Israel</td><td>United States</td><td>134</td></tr><tr><td>United States</td><td>United States</td><td>370002</td></tr><tr><td>Ethiopia</td><td>United States</td><td>13</td></tr><tr><td>United States</td><td>Luxembourg</td><td>134</td></tr><tr><td>United States</td><td>Poland</td><td>33</td></tr><tr><td>Martinique</td><td>United States</td><td>44</td></tr><tr><td>United States</td><td>Saint Barthelemy</td><td>41</td></tr><tr><td>Saint Barthelemy</td><td>United States</td><td>39</td></tr><tr><td>Barbados</td><td>United States</td><td>154</td></tr><tr><td>United States</td><td>Turkey</td><td>129</td></tr><tr><td>Djibouti</td><td>United States</td><td>1</td></tr><tr><td>United States</td><td>Azerbaijan</td><td>21</td></tr><tr><td>United States</td><td>Estonia</td><td>1</td></tr><tr><td>Germany</td><td>United States</td><td>1468</td></tr><tr><td>United States</td><td>South Korea</td><td>827</td></tr><tr><td>United States</td><td>El Salvador</td><td>508</td></tr><tr><td>Ireland</td><td>United States</td><td>335</td></tr><tr><td>United States</td><td>Hungary</td><td>3</td></tr><tr><td>Zambia</td><td>United States</td><td>1</td></tr><tr><td>Malaysia</td><td>United States</td><td>2</td></tr><tr><td>United States</td><td>Ethiopia</td><td>12</td></tr><tr><td>United States</td><td>Panama</td><td>465</td></tr><tr><td>United States</td><td>Aruba</td><td>342</td></tr><tr><td>United States</td><td>Thailand</td><td>4</td></tr><tr><td>United States</td><td>Turks and Caicos Islands</td><td>236</td></tr><tr><td>Croatia</td><td>United States</td><td>2</td></tr><tr><td>United States</td><td>Pakistan</td><td>12</td></tr><tr><td>Cyprus</td><td>United States</td><td>1</td></tr><tr><td>United States</td><td>Honduras</td><td>407</td></tr><tr><td>Fiji</td><td>United States</td><td>24</td></tr><tr><td>Qatar</td><td>United States</td><td>108</td></tr><tr><td>Saint Kitts and Nevis</td><td>United States</td><td>139</td></tr><tr><td>Kuwait</td><td>United States</td><td>32</td></tr><tr><td>Taiwan</td><td>United States</td><td>266</td></tr><tr><td>Haiti</td><td>United States</td><td>226</td></tr><tr><td>Canada</td><td>United States</td><td>8399</td></tr><tr><td>Federated States of Micronesia</td><td>United States</td><td>69</td></tr><tr><td>United States</td><td>Liberia</td><td>2</td></tr><tr><td>Jamaica</td><td>United States</td><td>666</td></tr><tr><td>United States</td><td>Malta</td><td>2</td></tr><tr><td>Dominican Republic</td><td>United States</td><td>1353</td></tr><tr><td>Japan</td><td>United States</td><td>1548</td></tr><tr><td>United States</td><td>Lithuania</td><td>1</td></tr><tr><td>Finland</td><td>United States</td><td>26</td></tr><tr><td>United States</td><td>Guadeloupe</td><td>59</td></tr><tr><td>United States</td><td>Ukraine</td><td>13</td></tr><tr><td>United States</td><td>France</td><td>952</td></tr><tr><td>United States</td><td>Norway</td><td>115</td></tr><tr><td>Aruba</td><td>United States</td><td>346</td></tr><tr><td>French Guiana</td><td>United States</td><td>5</td></tr><tr><td>United States</td><td>Kiribati</td><td>35</td></tr><tr><td>India</td><td>United States</td><td>61</td></tr><tr><td>British Virgin Islands</td><td>United States</td><td>107</td></tr><tr><td>Brazil</td><td>United States</td><td>853</td></tr><tr><td>United States</td><td>Germany</td><td>1336</td></tr><tr><td>United States</td><td>New Zealand</td><td>74</td></tr><tr><td>French Polynesia</td><td>United States</td><td>43</td></tr><tr><td>United Arab Emirates</td><td>United States</td><td>320</td></tr><tr><td>Singapore</td><td>United States</td><td>3</td></tr><tr><td>United States</td><td>Mexico</td><td>7187</td></tr><tr><td>United States</td><td>Sweden</td><td>119</td></tr><tr><td>Netherlands</td><td>United States</td><td>776</td></tr><tr><td>United States</td><td>Martinique</td><td>43</td></tr><tr><td>United States</td><td>United Arab Emirates</td><td>313</td></tr><tr><td>United States</td><td>Bulgaria</td><td>1</td></tr><tr><td>Denmark</td><td>United States</td><td>153</td></tr><tr><td>China</td><td>United States</td><td>772</td></tr><tr><td>United States</td><td>Nicaragua</td><td>201</td></tr><tr><td>United States</td><td>Philippines</td><td>126</td></tr><tr><td>United States</td><td>Georgia</td><td>1</td></tr><tr><td>United States</td><td>Belgium</td><td>228</td></tr><tr><td>Cayman Islands</td><td>United States</td><td>314</td></tr><tr><td>Argentina</td><td>United States</td><td>180</td></tr><tr><td>Peru</td><td>United States</td><td>279</td></tr><tr><td>South Africa</td><td>United States</td><td>36</td></tr><tr><td>United States</td><td>Iceland</td><td>202</td></tr><tr><td>United States</td><td>Argentina</td><td>141</td></tr><tr><td>Spain</td><td>United States</td><td>420</td></tr><tr><td>Bermuda</td><td>United States</td><td>183</td></tr><tr><td>United States</td><td>Nigeria</td><td>50</td></tr><tr><td>United States</td><td>Austria</td><td>63</td></tr><tr><td>United States</td><td>Bonaire, Sint Eustatius, and Saba</td><td>59</td></tr><tr><td>Kiribati</td><td>United States</td><td>26</td></tr><tr><td>Saudi Arabia</td><td>United States</td><td>83</td></tr><tr><td>Czech Republic</td><td>United States</td><td>13</td></tr><tr><td>United States</td><td>Israel</td><td>127</td></tr><tr><td>Belgium</td><td>United States</td><td>259</td></tr><tr><td>United States</td><td>Saint Lucia</td><td>136</td></tr><tr><td>United States</td><td>Bahrain</td><td>1</td></tr><tr><td>United States</td><td>British Virgin Islands</td><td>80</td></tr><tr><td>Curacao</td><td>United States</td><td>90</td></tr><tr><td>Georgia</td><td>United States</td><td>2</td></tr><tr><td>United States</td><td>Denmark</td><td>152</td></tr><tr><td>United States</td><td>Guyana</td><td>63</td></tr><tr><td>Philippines</td><td>United States</td><td>134</td></tr><tr><td>Grenada</td><td>United States</td><td>53</td></tr><tr><td>Cape Verde</td><td>United States</td><td>20</td></tr><tr><td>Cote d'Ivoire</td><td>United States</td><td>1</td></tr><tr><td>Ukraine</td><td>United States</td><td>14</td></tr><tr><td>United States</td><td>Papua New Guinea</td><td>1</td></tr><tr><td>Russia</td><td>United States</td><td>176</td></tr><tr><td>United States</td><td>Saudi Arabia</td><td>70</td></tr><tr><td>Guatemala</td><td>United States</td><td>397</td></tr><tr><td>Saint Lucia</td><td>United States</td><td>123</td></tr><tr><td>Paraguay</td><td>United States</td><td>60</td></tr><tr><td>United States</td><td>Curacao</td><td>83</td></tr><tr><td>Kosovo</td><td>United States</td><td>1</td></tr><tr><td>United States</td><td>Taiwan</td><td>235</td></tr><tr><td>Tunisia</td><td>United States</td><td>3</td></tr><tr><td>United States</td><td>South Africa</td><td>40</td></tr><tr><td>Niger</td><td>United States</td><td>2</td></tr><tr><td>Turkey</td><td>United States</td><td>138</td></tr><tr><td>United Kingdom</td><td>United States</td><td>2025</td></tr><tr><td>Romania</td><td>United States</td><td>14</td></tr><tr><td>United States</td><td>Greenland</td><td>4</td></tr><tr><td>Papua New Guinea</td><td>United States</td><td>3</td></tr><tr><td>United States</td><td>Spain</td><td>442</td></tr><tr><td>Iraq</td><td>United States</td><td>1</td></tr><tr><td>United States</td><td>Italy</td><td>438</td></tr><tr><td>Cuba</td><td>United States</td><td>466</td></tr><tr><td>United States</td><td>Switzerland</td><td>305</td></tr><tr><td>Dominica</td><td>United States</td><td>20</td></tr><tr><td>United States</td><td>Japan</td><td>1496</td></tr><tr><td>Portugal</td><td>United States</td><td>127</td></tr><tr><td>United States</td><td>Brazil</td><td>619</td></tr><tr><td>Bahrain</td><td>United States</td><td>19</td></tr><tr><td>United States</td><td>Peru</td><td>337</td></tr><tr><td>Indonesia</td><td>United States</td><td>1</td></tr><tr><td>United States</td><td>Belize</td><td>193</td></tr><tr><td>United States</td><td>United Kingdom</td><td>1970</td></tr><tr><td>Belize</td><td>United States</td><td>188</td></tr><tr><td>United States</td><td>Ghana</td><td>20</td></tr><tr><td>United States</td><td>Indonesia</td><td>2</td></tr><tr><td>United States</td><td>Fiji</td><td>25</td></tr><tr><td>United States</td><td>Canada</td><td>8483</td></tr><tr><td>United States</td><td>Antigua and Barbuda</td><td>117</td></tr><tr><td>United States</td><td>French Polynesia</td><td>40</td></tr><tr><td>Nicaragua</td><td>United States</td><td>179</td></tr><tr><td>United States</td><td>Latvia</td><td>15</td></tr><tr><td>United States</td><td>Dominica</td><td>27</td></tr><tr><td>United States</td><td>Czech Republic</td><td>12</td></tr><tr><td>United States</td><td>Australia</td><td>258</td></tr><tr><td>United States</td><td>Cook Islands</td><td>13</td></tr><tr><td>Austria</td><td>United States</td><td>62</td></tr><tr><td>Jordan</td><td>United States</td><td>44</td></tr><tr><td>Palau</td><td>United States</td><td>30</td></tr><tr><td>South Korea</td><td>United States</td><td>1048</td></tr><tr><td>Angola</td><td>United States</td><td>15</td></tr><tr><td>Ghana</td><td>United States</td><td>18</td></tr><tr><td>New Caledonia</td><td>United States</td><td>1</td></tr><tr><td>Guadeloupe</td><td>United States</td><td>56</td></tr><tr><td>France</td><td>United States</td><td>935</td></tr><tr><td>Poland</td><td>United States</td><td>32</td></tr><tr><td>Nigeria</td><td>United States</td><td>59</td></tr><tr><td>United States</td><td>Uruguay</td><td>13</td></tr><tr><td>Greenland</td><td>United States</td><td>2</td></tr><tr><td>United States</td><td>Bermuda</td><td>193</td></tr><tr><td>Chile</td><td>United States</td><td>174</td></tr><tr><td>United States</td><td>Cuba</td><td>478</td></tr><tr><td>United States</td><td>Montenegro</td><td>1</td></tr><tr><td>United States</td><td>Colombia</td><td>867</td></tr><tr><td>United States</td><td>Barbados</td><td>130</td></tr><tr><td>United States</td><td>Qatar</td><td>109</td></tr><tr><td>Australia</td><td>United States</td><td>329</td></tr><tr><td>United States</td><td>Cayman Islands</td><td>310</td></tr><tr><td>United States</td><td>Jordan</td><td>44</td></tr><tr><td>United States</td><td>Namibia</td><td>1</td></tr><tr><td>United States</td><td>Trinidad and Tobago</td><td>217</td></tr><tr><td>United States</td><td>Bolivia</td><td>13</td></tr><tr><td>Cook Islands</td><td>United States</td><td>13</td></tr><tr><td>Bulgaria</td><td>United States</td><td>3</td></tr><tr><td>United States</td><td>Saint Kitts and Nevis</td><td>145</td></tr><tr><td>Uruguay</td><td>United States</td><td>43</td></tr><tr><td>United States</td><td>Haiti</td><td>225</td></tr><tr><td>Bonaire, Sint Eustatius, and Saba</td><td>United States</td><td>58</td></tr><tr><td>Greece</td><td>United States</td><td>30</td></tr></tbody></table></div>"
      ]
     },
     "metadata": {
      "application/vnd.databricks.v1+output": {
       "addedWidgets": {},
       "aggData": [],
       "aggError": "",
       "aggOverflow": false,
       "aggSchema": [],
       "aggSeriesLimitReached": false,
       "aggType": "",
       "arguments": {},
       "columnCustomDisplayInfos": {},
       "data": [
        [
         "United States",
         "Romania",
         15
        ],
        [
         "United States",
         "Croatia",
         1
        ],
        [
         "United States",
         "Ireland",
         344
        ],
        [
         "Egypt",
         "United States",
         15
        ],
        [
         "United States",
         "India",
         62
        ],
        [
         "United States",
         "Singapore",
         1
        ],
        [
         "United States",
         "Grenada",
         62
        ],
        [
         "Costa Rica",
         "United States",
         588
        ],
        [
         "Senegal",
         "United States",
         40
        ],
        [
         "Moldova",
         "United States",
         1
        ],
        [
         "United States",
         "Sint Maarten",
         325
        ],
        [
         "United States",
         "Marshall Islands",
         39
        ],
        [
         "Guyana",
         "United States",
         64
        ],
        [
         "Malta",
         "United States",
         1
        ],
        [
         "Anguilla",
         "United States",
         41
        ],
        [
         "Bolivia",
         "United States",
         30
        ],
        [
         "United States",
         "Paraguay",
         6
        ],
        [
         "Algeria",
         "United States",
         4
        ],
        [
         "Turks and Caicos Islands",
         "United States",
         230
        ],
        [
         "United States",
         "Gibraltar",
         1
        ],
        [
         "Saint Vincent and the Grenadines",
         "United States",
         1
        ],
        [
         "Italy",
         "United States",
         382
        ],
        [
         "United States",
         "Federated States of Micronesia",
         69
        ],
        [
         "United States",
         "Russia",
         161
        ],
        [
         "Pakistan",
         "United States",
         12
        ],
        [
         "United States",
         "Netherlands",
         660
        ],
        [
         "Iceland",
         "United States",
         181
        ],
        [
         "Marshall Islands",
         "United States",
         42
        ],
        [
         "Luxembourg",
         "United States",
         155
        ],
        [
         "Honduras",
         "United States",
         362
        ],
        [
         "The Bahamas",
         "United States",
         955
        ],
        [
         "United States",
         "Senegal",
         42
        ],
        [
         "El Salvador",
         "United States",
         561
        ],
        [
         "Samoa",
         "United States",
         25
        ],
        [
         "United States",
         "Angola",
         13
        ],
        [
         "Switzerland",
         "United States",
         294
        ],
        [
         "United States",
         "Anguilla",
         38
        ],
        [
         "Sint Maarten",
         "United States",
         325
        ],
        [
         "Hong Kong",
         "United States",
         332
        ],
        [
         "Trinidad and Tobago",
         "United States",
         211
        ],
        [
         "Latvia",
         "United States",
         19
        ],
        [
         "United States",
         "Ecuador",
         300
        ],
        [
         "Suriname",
         "United States",
         1
        ],
        [
         "Mexico",
         "United States",
         7140
        ],
        [
         "United States",
         "Cyprus",
         1
        ],
        [
         "Ecuador",
         "United States",
         268
        ],
        [
         "United States",
         "Portugal",
         134
        ],
        [
         "United States",
         "Costa Rica",
         608
        ],
        [
         "United States",
         "Guatemala",
         318
        ],
        [
         "United States",
         "Suriname",
         34
        ],
        [
         "Colombia",
         "United States",
         873
        ],
        [
         "United States",
         "Cape Verde",
         14
        ],
        [
         "United States",
         "Jamaica",
         712
        ],
        [
         "Norway",
         "United States",
         121
        ],
        [
         "United States",
         "Malaysia",
         3
        ],
        [
         "United States",
         "Morocco",
         19
        ],
        [
         "Thailand",
         "United States",
         3
        ],
        [
         "United States",
         "Samoa",
         25
        ],
        [
         "Venezuela",
         "United States",
         290
        ],
        [
         "United States",
         "Palau",
         31
        ],
        [
         "United States",
         "Venezuela",
         246
        ],
        [
         "Panama",
         "United States",
         510
        ],
        [
         "Antigua and Barbuda",
         "United States",
         126
        ],
        [
         "United States",
         "Chile",
         185
        ],
        [
         "Morocco",
         "United States",
         15
        ],
        [
         "United States",
         "Finland",
         28
        ],
        [
         "Azerbaijan",
         "United States",
         21
        ],
        [
         "United States",
         "Greece",
         23
        ],
        [
         "United States",
         "The Bahamas",
         986
        ],
        [
         "New Zealand",
         "United States",
         111
        ],
        [
         "Liberia",
         "United States",
         2
        ],
        [
         "United States",
         "Hong Kong",
         414
        ],
        [
         "Hungary",
         "United States",
         2
        ],
        [
         "United States",
         "China",
         920
        ],
        [
         "United States",
         "Vietnam",
         2
        ],
        [
         "Burkina Faso",
         "United States",
         1
        ],
        [
         "Sweden",
         "United States",
         118
        ],
        [
         "United States",
         "Kuwait",
         28
        ],
        [
         "United States",
         "Dominican Republic",
         1420
        ],
        [
         "United States",
         "Egypt",
         12
        ],
        [
         "Israel",
         "United States",
         134
        ],
        [
         "United States",
         "United States",
         370002
        ],
        [
         "Ethiopia",
         "United States",
         13
        ],
        [
         "United States",
         "Luxembourg",
         134
        ],
        [
         "United States",
         "Poland",
         33
        ],
        [
         "Martinique",
         "United States",
         44
        ],
        [
         "United States",
         "Saint Barthelemy",
         41
        ],
        [
         "Saint Barthelemy",
         "United States",
         39
        ],
        [
         "Barbados",
         "United States",
         154
        ],
        [
         "United States",
         "Turkey",
         129
        ],
        [
         "Djibouti",
         "United States",
         1
        ],
        [
         "United States",
         "Azerbaijan",
         21
        ],
        [
         "United States",
         "Estonia",
         1
        ],
        [
         "Germany",
         "United States",
         1468
        ],
        [
         "United States",
         "South Korea",
         827
        ],
        [
         "United States",
         "El Salvador",
         508
        ],
        [
         "Ireland",
         "United States",
         335
        ],
        [
         "United States",
         "Hungary",
         3
        ],
        [
         "Zambia",
         "United States",
         1
        ],
        [
         "Malaysia",
         "United States",
         2
        ],
        [
         "United States",
         "Ethiopia",
         12
        ],
        [
         "United States",
         "Panama",
         465
        ],
        [
         "United States",
         "Aruba",
         342
        ],
        [
         "United States",
         "Thailand",
         4
        ],
        [
         "United States",
         "Turks and Caicos Islands",
         236
        ],
        [
         "Croatia",
         "United States",
         2
        ],
        [
         "United States",
         "Pakistan",
         12
        ],
        [
         "Cyprus",
         "United States",
         1
        ],
        [
         "United States",
         "Honduras",
         407
        ],
        [
         "Fiji",
         "United States",
         24
        ],
        [
         "Qatar",
         "United States",
         108
        ],
        [
         "Saint Kitts and Nevis",
         "United States",
         139
        ],
        [
         "Kuwait",
         "United States",
         32
        ],
        [
         "Taiwan",
         "United States",
         266
        ],
        [
         "Haiti",
         "United States",
         226
        ],
        [
         "Canada",
         "United States",
         8399
        ],
        [
         "Federated States of Micronesia",
         "United States",
         69
        ],
        [
         "United States",
         "Liberia",
         2
        ],
        [
         "Jamaica",
         "United States",
         666
        ],
        [
         "United States",
         "Malta",
         2
        ],
        [
         "Dominican Republic",
         "United States",
         1353
        ],
        [
         "Japan",
         "United States",
         1548
        ],
        [
         "United States",
         "Lithuania",
         1
        ],
        [
         "Finland",
         "United States",
         26
        ],
        [
         "United States",
         "Guadeloupe",
         59
        ],
        [
         "United States",
         "Ukraine",
         13
        ],
        [
         "United States",
         "France",
         952
        ],
        [
         "United States",
         "Norway",
         115
        ],
        [
         "Aruba",
         "United States",
         346
        ],
        [
         "French Guiana",
         "United States",
         5
        ],
        [
         "United States",
         "Kiribati",
         35
        ],
        [
         "India",
         "United States",
         61
        ],
        [
         "British Virgin Islands",
         "United States",
         107
        ],
        [
         "Brazil",
         "United States",
         853
        ],
        [
         "United States",
         "Germany",
         1336
        ],
        [
         "United States",
         "New Zealand",
         74
        ],
        [
         "French Polynesia",
         "United States",
         43
        ],
        [
         "United Arab Emirates",
         "United States",
         320
        ],
        [
         "Singapore",
         "United States",
         3
        ],
        [
         "United States",
         "Mexico",
         7187
        ],
        [
         "United States",
         "Sweden",
         119
        ],
        [
         "Netherlands",
         "United States",
         776
        ],
        [
         "United States",
         "Martinique",
         43
        ],
        [
         "United States",
         "United Arab Emirates",
         313
        ],
        [
         "United States",
         "Bulgaria",
         1
        ],
        [
         "Denmark",
         "United States",
         153
        ],
        [
         "China",
         "United States",
         772
        ],
        [
         "United States",
         "Nicaragua",
         201
        ],
        [
         "United States",
         "Philippines",
         126
        ],
        [
         "United States",
         "Georgia",
         1
        ],
        [
         "United States",
         "Belgium",
         228
        ],
        [
         "Cayman Islands",
         "United States",
         314
        ],
        [
         "Argentina",
         "United States",
         180
        ],
        [
         "Peru",
         "United States",
         279
        ],
        [
         "South Africa",
         "United States",
         36
        ],
        [
         "United States",
         "Iceland",
         202
        ],
        [
         "United States",
         "Argentina",
         141
        ],
        [
         "Spain",
         "United States",
         420
        ],
        [
         "Bermuda",
         "United States",
         183
        ],
        [
         "United States",
         "Nigeria",
         50
        ],
        [
         "United States",
         "Austria",
         63
        ],
        [
         "United States",
         "Bonaire, Sint Eustatius, and Saba",
         59
        ],
        [
         "Kiribati",
         "United States",
         26
        ],
        [
         "Saudi Arabia",
         "United States",
         83
        ],
        [
         "Czech Republic",
         "United States",
         13
        ],
        [
         "United States",
         "Israel",
         127
        ],
        [
         "Belgium",
         "United States",
         259
        ],
        [
         "United States",
         "Saint Lucia",
         136
        ],
        [
         "United States",
         "Bahrain",
         1
        ],
        [
         "United States",
         "British Virgin Islands",
         80
        ],
        [
         "Curacao",
         "United States",
         90
        ],
        [
         "Georgia",
         "United States",
         2
        ],
        [
         "United States",
         "Denmark",
         152
        ],
        [
         "United States",
         "Guyana",
         63
        ],
        [
         "Philippines",
         "United States",
         134
        ],
        [
         "Grenada",
         "United States",
         53
        ],
        [
         "Cape Verde",
         "United States",
         20
        ],
        [
         "Cote d'Ivoire",
         "United States",
         1
        ],
        [
         "Ukraine",
         "United States",
         14
        ],
        [
         "United States",
         "Papua New Guinea",
         1
        ],
        [
         "Russia",
         "United States",
         176
        ],
        [
         "United States",
         "Saudi Arabia",
         70
        ],
        [
         "Guatemala",
         "United States",
         397
        ],
        [
         "Saint Lucia",
         "United States",
         123
        ],
        [
         "Paraguay",
         "United States",
         60
        ],
        [
         "United States",
         "Curacao",
         83
        ],
        [
         "Kosovo",
         "United States",
         1
        ],
        [
         "United States",
         "Taiwan",
         235
        ],
        [
         "Tunisia",
         "United States",
         3
        ],
        [
         "United States",
         "South Africa",
         40
        ],
        [
         "Niger",
         "United States",
         2
        ],
        [
         "Turkey",
         "United States",
         138
        ],
        [
         "United Kingdom",
         "United States",
         2025
        ],
        [
         "Romania",
         "United States",
         14
        ],
        [
         "United States",
         "Greenland",
         4
        ],
        [
         "Papua New Guinea",
         "United States",
         3
        ],
        [
         "United States",
         "Spain",
         442
        ],
        [
         "Iraq",
         "United States",
         1
        ],
        [
         "United States",
         "Italy",
         438
        ],
        [
         "Cuba",
         "United States",
         466
        ],
        [
         "United States",
         "Switzerland",
         305
        ],
        [
         "Dominica",
         "United States",
         20
        ],
        [
         "United States",
         "Japan",
         1496
        ],
        [
         "Portugal",
         "United States",
         127
        ],
        [
         "United States",
         "Brazil",
         619
        ],
        [
         "Bahrain",
         "United States",
         19
        ],
        [
         "United States",
         "Peru",
         337
        ],
        [
         "Indonesia",
         "United States",
         1
        ],
        [
         "United States",
         "Belize",
         193
        ],
        [
         "United States",
         "United Kingdom",
         1970
        ],
        [
         "Belize",
         "United States",
         188
        ],
        [
         "United States",
         "Ghana",
         20
        ],
        [
         "United States",
         "Indonesia",
         2
        ],
        [
         "United States",
         "Fiji",
         25
        ],
        [
         "United States",
         "Canada",
         8483
        ],
        [
         "United States",
         "Antigua and Barbuda",
         117
        ],
        [
         "United States",
         "French Polynesia",
         40
        ],
        [
         "Nicaragua",
         "United States",
         179
        ],
        [
         "United States",
         "Latvia",
         15
        ],
        [
         "United States",
         "Dominica",
         27
        ],
        [
         "United States",
         "Czech Republic",
         12
        ],
        [
         "United States",
         "Australia",
         258
        ],
        [
         "United States",
         "Cook Islands",
         13
        ],
        [
         "Austria",
         "United States",
         62
        ],
        [
         "Jordan",
         "United States",
         44
        ],
        [
         "Palau",
         "United States",
         30
        ],
        [
         "South Korea",
         "United States",
         1048
        ],
        [
         "Angola",
         "United States",
         15
        ],
        [
         "Ghana",
         "United States",
         18
        ],
        [
         "New Caledonia",
         "United States",
         1
        ],
        [
         "Guadeloupe",
         "United States",
         56
        ],
        [
         "France",
         "United States",
         935
        ],
        [
         "Poland",
         "United States",
         32
        ],
        [
         "Nigeria",
         "United States",
         59
        ],
        [
         "United States",
         "Uruguay",
         13
        ],
        [
         "Greenland",
         "United States",
         2
        ],
        [
         "United States",
         "Bermuda",
         193
        ],
        [
         "Chile",
         "United States",
         174
        ],
        [
         "United States",
         "Cuba",
         478
        ],
        [
         "United States",
         "Montenegro",
         1
        ],
        [
         "United States",
         "Colombia",
         867
        ],
        [
         "United States",
         "Barbados",
         130
        ],
        [
         "United States",
         "Qatar",
         109
        ],
        [
         "Australia",
         "United States",
         329
        ],
        [
         "United States",
         "Cayman Islands",
         310
        ],
        [
         "United States",
         "Jordan",
         44
        ],
        [
         "United States",
         "Namibia",
         1
        ],
        [
         "United States",
         "Trinidad and Tobago",
         217
        ],
        [
         "United States",
         "Bolivia",
         13
        ],
        [
         "Cook Islands",
         "United States",
         13
        ],
        [
         "Bulgaria",
         "United States",
         3
        ],
        [
         "United States",
         "Saint Kitts and Nevis",
         145
        ],
        [
         "Uruguay",
         "United States",
         43
        ],
        [
         "United States",
         "Haiti",
         225
        ],
        [
         "Bonaire, Sint Eustatius, and Saba",
         "United States",
         58
        ],
        [
         "Greece",
         "United States",
         30
        ]
       ],
       "datasetInfos": [],
       "dbfsResultPath": null,
       "isJsonSchema": true,
       "metadata": {},
       "overflow": false,
       "plotOptions": {
        "customPlotOptions": {},
        "displayType": "table",
        "pivotAggregation": null,
        "pivotColumns": null,
        "xColumns": null,
        "yColumns": null
       },
       "removedWidgets": [],
       "schema": [
        {
         "metadata": "{}",
         "name": "DEST_COUNTRY_NAME",
         "type": "\"string\""
        },
        {
         "metadata": "{}",
         "name": "ORIGIN_COUNTRY_NAME",
         "type": "\"string\""
        },
        {
         "metadata": "{}",
         "name": "count",
         "type": "\"integer\""
        }
       ],
       "type": "table"
      }
     },
     "output_type": "display_data"
    }
   ],
   "source": [
    "flightData2015.display()"
   ]
  },
  {
   "cell_type": "code",
   "execution_count": 0,
   "metadata": {
    "application/vnd.databricks.v1+cell": {
     "cellMetadata": {
      "byteLimit": 2048000,
      "rowLimit": 10000
     },
     "inputWidgets": {},
     "nuid": "b075cf23-cc34-4f31-bedc-14e3b93d7a0c",
     "showTitle": false,
     "title": ""
    }
   },
   "outputs": [
    {
     "output_type": "stream",
     "name": "stdout",
     "output_type": "stream",
     "text": [
      "Out[21]: [Row(DEST_COUNTRY_NAME='United States', ORIGIN_COUNTRY_NAME='Romania', count=15),\n Row(DEST_COUNTRY_NAME='United States', ORIGIN_COUNTRY_NAME='Croatia', count=1),\n Row(DEST_COUNTRY_NAME='United States', ORIGIN_COUNTRY_NAME='Ireland', count=344)]"
     ]
    }
   ],
   "source": [
    "flightData2015.take(3)"
   ]
  },
  {
   "cell_type": "markdown",
   "metadata": {
    "application/vnd.databricks.v1+cell": {
     "cellMetadata": {},
     "inputWidgets": {},
     "nuid": "b53c15a4-fd58-4209-a6d6-6f7f64be84a6",
     "showTitle": false,
     "title": ""
    }
   },
   "source": [
    "- Spark 의 실행 계획 : explain() "
   ]
  },
  {
   "cell_type": "code",
   "execution_count": 0,
   "metadata": {
    "application/vnd.databricks.v1+cell": {
     "cellMetadata": {
      "byteLimit": 2048000,
      "rowLimit": 10000
     },
     "inputWidgets": {},
     "nuid": "ffc7e5e2-e7ba-4ea7-9b9e-002d7fb0aaca",
     "showTitle": false,
     "title": ""
    }
   },
   "outputs": [
    {
     "output_type": "stream",
     "name": "stdout",
     "output_type": "stream",
     "text": [
      "== Physical Plan ==\nAdaptiveSparkPlan isFinalPlan=false\n+- Sort [count#169 ASC NULLS FIRST], true, 0\n   +- Exchange rangepartitioning(count#169 ASC NULLS FIRST, 200), ENSURE_REQUIREMENTS, [plan_id=275]\n      +- FileScan csv [DEST_COUNTRY_NAME#167,ORIGIN_COUNTRY_NAME#168,count#169] Batched: false, DataFilters: [], Format: CSV, Location: InMemoryFileIndex(1 paths)[dbfs:/FileStore/shared_uploads/mjwoo0@naver.com/2015_summary.csv], PartitionFilters: [], PushedFilters: [], ReadSchema: struct<DEST_COUNTRY_NAME:string,ORIGIN_COUNTRY_NAME:string,count:int>\n\n\n"
     ]
    }
   ],
   "source": [
    "flightData2015.sort(\"count\").explain()"
   ]
  },
  {
   "cell_type": "markdown",
   "metadata": {
    "application/vnd.databricks.v1+cell": {
     "cellMetadata": {},
     "inputWidgets": {},
     "nuid": "fa3ca8fd-b1d7-4c5b-8a5c-206525d20744",
     "showTitle": false,
     "title": ""
    }
   },
   "source": [
    "- spark 는 기본적으로 셔플 수행 시 200개의 셔플 파티션을 생성한다. \n",
    "- 아래의 코드는 shuffle partition 개수 값을 5로 설정하여 출력 파티션 수를 줄인다. "
   ]
  },
  {
   "cell_type": "code",
   "execution_count": 0,
   "metadata": {
    "application/vnd.databricks.v1+cell": {
     "cellMetadata": {
      "byteLimit": 2048000,
      "rowLimit": 10000
     },
     "inputWidgets": {},
     "nuid": "44363e91-7369-461b-99ac-a577d0810950",
     "showTitle": false,
     "title": ""
    }
   },
   "outputs": [],
   "source": [
    "spark.conf.set(\"spark.sql.shuffle.partitions\", \"5\")"
   ]
  },
  {
   "cell_type": "markdown",
   "metadata": {
    "application/vnd.databricks.v1+cell": {
     "cellMetadata": {},
     "inputWidgets": {},
     "nuid": "9e8ccb8c-dbb5-4456-a2c0-d2b64e030e3b",
     "showTitle": false,
     "title": ""
    }
   },
   "source": [
    "- count 순으로 정렬하기 "
   ]
  },
  {
   "cell_type": "code",
   "execution_count": 0,
   "metadata": {
    "application/vnd.databricks.v1+cell": {
     "cellMetadata": {
      "byteLimit": 2048000,
      "rowLimit": 10000
     },
     "inputWidgets": {},
     "nuid": "cb24808d-eb38-4bf7-a107-001bb7a23bc7",
     "showTitle": false,
     "title": ""
    }
   },
   "outputs": [
    {
     "output_type": "stream",
     "name": "stdout",
     "output_type": "stream",
     "text": [
      "Out[24]: [Row(DEST_COUNTRY_NAME='United States', ORIGIN_COUNTRY_NAME='Singapore', count=1),\n Row(DEST_COUNTRY_NAME='Moldova', ORIGIN_COUNTRY_NAME='United States', count=1)]"
     ]
    }
   ],
   "source": [
    "flightData2015.sort(\"count\").take(2)"
   ]
  },
  {
   "cell_type": "markdown",
   "metadata": {
    "application/vnd.databricks.v1+cell": {
     "cellMetadata": {},
     "inputWidgets": {},
     "nuid": "93885287-6ff9-4539-8969-e73c8a0de53b",
     "showTitle": false,
     "title": ""
    }
   },
   "source": [
    "## SQL 사용하기 \n",
    "- DataFrame 을 Table / View 로 만들어 SQL 문을 사용"
   ]
  },
  {
   "cell_type": "code",
   "execution_count": 0,
   "metadata": {
    "application/vnd.databricks.v1+cell": {
     "cellMetadata": {
      "byteLimit": 2048000,
      "rowLimit": 10000
     },
     "inputWidgets": {},
     "nuid": "0b89ebe1-433b-4aa4-bb1b-151966d7d99d",
     "showTitle": false,
     "title": ""
    }
   },
   "outputs": [],
   "source": [
    "flightData2015.createOrReplaceTempView(\"flight_data_2015\")"
   ]
  },
  {
   "cell_type": "markdown",
   "metadata": {
    "application/vnd.databricks.v1+cell": {
     "cellMetadata": {},
     "inputWidgets": {},
     "nuid": "b74edaea-88e5-424b-aabe-d8d859a2ac4f",
     "showTitle": false,
     "title": ""
    }
   },
   "source": [
    "- Spark 는 SQL query 를 DataFrame 코드와 같은 실행 계획으로 컴파일 하므로 두가지 방법의 성능 차이가 없다. "
   ]
  },
  {
   "cell_type": "code",
   "execution_count": 0,
   "metadata": {
    "application/vnd.databricks.v1+cell": {
     "cellMetadata": {
      "byteLimit": 2048000,
      "rowLimit": 10000
     },
     "inputWidgets": {},
     "nuid": "7ba20d0a-bc16-4f90-9beb-787f2c277ce2",
     "showTitle": false,
     "title": ""
    }
   },
   "outputs": [],
   "source": [
    "sqlWay = spark.sql(\"\"\"\n",
    "    SELECT DEST_COUNTRY_NAME, count(1)\n",
    "    FROM flight_data_2015     \n",
    "    GROUP BY DEST_COUNTRY_NAME              \n",
    "\"\"\")\n",
    "\n",
    "dataFrameWay = flightData2015\\\n",
    "    .groupBy(\"DEST_COUNTRY_NAME\")\\\n",
    "    .count()"
   ]
  },
  {
   "cell_type": "code",
   "execution_count": 0,
   "metadata": {
    "application/vnd.databricks.v1+cell": {
     "cellMetadata": {
      "byteLimit": 2048000,
      "rowLimit": 10000
     },
     "inputWidgets": {},
     "nuid": "8873f0e4-8b95-4681-a92e-dd880a77528d",
     "showTitle": false,
     "title": ""
    }
   },
   "outputs": [
    {
     "output_type": "stream",
     "name": "stdout",
     "output_type": "stream",
     "text": [
      "== Physical Plan ==\nAdaptiveSparkPlan isFinalPlan=true\n+- == Final Plan ==\n   *(2) HashAggregate(keys=[DEST_COUNTRY_NAME#167], functions=[finalmerge_count(merge count#324L) AS count(1)#312L])\n   +- AQEShuffleRead coalesced\n      +- ShuffleQueryStage 0, Statistics(sizeInBytes=4.6 KiB, rowCount=132, isRuntime=true)\n         +- Exchange hashpartitioning(DEST_COUNTRY_NAME#167, 5), ENSURE_REQUIREMENTS, [plan_id=404]\n            +- *(1) HashAggregate(keys=[DEST_COUNTRY_NAME#167], functions=[partial_count(1) AS count#324L])\n               +- FileScan csv [DEST_COUNTRY_NAME#167] Batched: false, DataFilters: [], Format: CSV, Location: InMemoryFileIndex(1 paths)[dbfs:/FileStore/shared_uploads/mjwoo0@naver.com/2015_summary.csv], PartitionFilters: [], PushedFilters: [], ReadSchema: struct<DEST_COUNTRY_NAME:string>\n+- == Initial Plan ==\n   HashAggregate(keys=[DEST_COUNTRY_NAME#167], functions=[finalmerge_count(merge count#324L) AS count(1)#312L])\n   +- Exchange hashpartitioning(DEST_COUNTRY_NAME#167, 5), ENSURE_REQUIREMENTS, [plan_id=391]\n      +- HashAggregate(keys=[DEST_COUNTRY_NAME#167], functions=[partial_count(1) AS count#324L])\n         +- FileScan csv [DEST_COUNTRY_NAME#167] Batched: false, DataFilters: [], Format: CSV, Location: InMemoryFileIndex(1 paths)[dbfs:/FileStore/shared_uploads/mjwoo0@naver.com/2015_summary.csv], PartitionFilters: [], PushedFilters: [], ReadSchema: struct<DEST_COUNTRY_NAME:string>\n\n\n== Physical Plan ==\nAdaptiveSparkPlan isFinalPlan=true\n+- == Final Plan ==\n   *(2) HashAggregate(keys=[DEST_COUNTRY_NAME#167], functions=[finalmerge_count(merge count#328L) AS count(1)#319L])\n   +- AQEShuffleRead coalesced\n      +- ShuffleQueryStage 0, Statistics(sizeInBytes=4.6 KiB, rowCount=132, isRuntime=true)\n         +- Exchange hashpartitioning(DEST_COUNTRY_NAME#167, 5), ENSURE_REQUIREMENTS, [plan_id=439]\n            +- *(1) HashAggregate(keys=[DEST_COUNTRY_NAME#167], functions=[partial_count(1) AS count#328L])\n               +- FileScan csv [DEST_COUNTRY_NAME#167] Batched: false, DataFilters: [], Format: CSV, Location: InMemoryFileIndex(1 paths)[dbfs:/FileStore/shared_uploads/mjwoo0@naver.com/2015_summary.csv], PartitionFilters: [], PushedFilters: [], ReadSchema: struct<DEST_COUNTRY_NAME:string>\n+- == Initial Plan ==\n   HashAggregate(keys=[DEST_COUNTRY_NAME#167], functions=[finalmerge_count(merge count#328L) AS count(1)#319L])\n   +- Exchange hashpartitioning(DEST_COUNTRY_NAME#167, 5), ENSURE_REQUIREMENTS, [plan_id=426]\n      +- HashAggregate(keys=[DEST_COUNTRY_NAME#167], functions=[partial_count(1) AS count#328L])\n         +- FileScan csv [DEST_COUNTRY_NAME#167] Batched: false, DataFilters: [], Format: CSV, Location: InMemoryFileIndex(1 paths)[dbfs:/FileStore/shared_uploads/mjwoo0@naver.com/2015_summary.csv], PartitionFilters: [], PushedFilters: [], ReadSchema: struct<DEST_COUNTRY_NAME:string>\n\n\n"
     ]
    }
   ],
   "source": [
    "sqlWay.explain()\n",
    "dataFrameWay.explain()"
   ]
  },
  {
   "cell_type": "code",
   "execution_count": 0,
   "metadata": {
    "application/vnd.databricks.v1+cell": {
     "cellMetadata": {
      "byteLimit": 2048000,
      "rowLimit": 10000
     },
     "inputWidgets": {},
     "nuid": "9b5ee852-b427-4231-af83-2cbf2dc437e7",
     "showTitle": false,
     "title": ""
    }
   },
   "outputs": [
    {
     "output_type": "stream",
     "name": "stdout",
     "output_type": "stream",
     "text": [
      "Out[33]: [Row(max(count)=370002)]"
     ]
    }
   ],
   "source": [
    "spark.sql(\"SELECT max(count) from flight_data_2015\").take(1)"
   ]
  },
  {
   "cell_type": "code",
   "execution_count": 0,
   "metadata": {
    "application/vnd.databricks.v1+cell": {
     "cellMetadata": {
      "byteLimit": 2048000,
      "rowLimit": 10000
     },
     "inputWidgets": {},
     "nuid": "e7da9b31-caf4-4f99-8421-453e5d0c10b4",
     "showTitle": false,
     "title": ""
    }
   },
   "outputs": [
    {
     "output_type": "stream",
     "name": "stdout",
     "output_type": "stream",
     "text": [
      "Out[34]: [Row(max(count)=370002)]"
     ]
    }
   ],
   "source": [
    "from pyspark.sql.functions import max \n",
    "\n",
    "flightData2015.select(max(\"count\")).take(1)"
   ]
  },
  {
   "cell_type": "code",
   "execution_count": 0,
   "metadata": {
    "application/vnd.databricks.v1+cell": {
     "cellMetadata": {
      "byteLimit": 2048000,
      "rowLimit": 10000
     },
     "inputWidgets": {},
     "nuid": "b579ebb8-a5c8-4e88-a137-22ba14c4d0d5",
     "showTitle": false,
     "title": ""
    }
   },
   "outputs": [
    {
     "output_type": "stream",
     "name": "stdout",
     "output_type": "stream",
     "text": [
      "+-----------------+-----------------+\n|DEST_COUNTRY_NAME|destination_total|\n+-----------------+-----------------+\n|    United States|           411352|\n|           Canada|             8399|\n|           Mexico|             7140|\n|   United Kingdom|             2025|\n|            Japan|             1548|\n+-----------------+-----------------+\n\n"
     ]
    }
   ],
   "source": [
    "maxSql = spark.sql(\"\"\"\n",
    "SELECT DEST_COUNTRY_NAME, sum(count) as destination_total\n",
    "FROM flight_data_2015\n",
    "GROUP BY DEST_COUNTRY_NAME \n",
    "ORDER BY sum(count) DESC \n",
    "LIMIT 5\n",
    "\"\"\")\n",
    "\n",
    "maxSql.show()"
   ]
  },
  {
   "cell_type": "code",
   "execution_count": 0,
   "metadata": {
    "application/vnd.databricks.v1+cell": {
     "cellMetadata": {
      "byteLimit": 2048000,
      "rowLimit": 10000
     },
     "inputWidgets": {},
     "nuid": "3edd2939-7abb-411d-a43a-aec4476dc5d6",
     "showTitle": false,
     "title": ""
    }
   },
   "outputs": [
    {
     "output_type": "stream",
     "name": "stdout",
     "output_type": "stream",
     "text": [
      "+-----------------+-----------------+\n|DEST_COUNTRY_NAME|destination_total|\n+-----------------+-----------------+\n|    United States|           411352|\n|           Canada|             8399|\n|           Mexico|             7140|\n|   United Kingdom|             2025|\n|            Japan|             1548|\n+-----------------+-----------------+\n\n"
     ]
    }
   ],
   "source": [
    "from pyspark.sql.functions import desc \n",
    "\n",
    "flightData2015\\\n",
    "    .groupBy(\"DEST_COUNTRY_NAME\")\\\n",
    "    .sum(\"count\")\\\n",
    "    .withColumnRenamed(\"sum(count)\", \"destination_total\")\\\n",
    "    .sort(desc(\"destination_total\"))\\\n",
    "    .limit(5)\\\n",
    "    .show()"
   ]
  },
  {
   "cell_type": "code",
   "execution_count": 0,
   "metadata": {
    "application/vnd.databricks.v1+cell": {
     "cellMetadata": {
      "byteLimit": 2048000,
      "rowLimit": 10000
     },
     "inputWidgets": {},
     "nuid": "37821015-26f1-4b5a-ba3a-54a0f893a045",
     "showTitle": false,
     "title": ""
    }
   },
   "outputs": [
    {
     "output_type": "stream",
     "name": "stdout",
     "output_type": "stream",
     "text": [
      "== Physical Plan ==\nAdaptiveSparkPlan isFinalPlan=false\n+- TakeOrderedAndProject(limit=5, orderBy=[destination_total#431L DESC NULLS LAST], output=[DEST_COUNTRY_NAME#167,destination_total#431L])\n   +- HashAggregate(keys=[DEST_COUNTRY_NAME#167], functions=[finalmerge_sum(merge sum#435L) AS sum(count#169)#427L])\n      +- Exchange hashpartitioning(DEST_COUNTRY_NAME#167, 5), ENSURE_REQUIREMENTS, [plan_id=618]\n         +- HashAggregate(keys=[DEST_COUNTRY_NAME#167], functions=[partial_sum(count#169) AS sum#435L])\n            +- FileScan csv [DEST_COUNTRY_NAME#167,count#169] Batched: false, DataFilters: [], Format: CSV, Location: InMemoryFileIndex(1 paths)[dbfs:/FileStore/shared_uploads/mjwoo0@naver.com/2015_summary.csv], PartitionFilters: [], PushedFilters: [], ReadSchema: struct<DEST_COUNTRY_NAME:string,count:int>\n\n\n"
     ]
    }
   ],
   "source": [
    "flightData2015\\\n",
    "    .groupBy(\"DEST_COUNTRY_NAME\")\\\n",
    "    .sum(\"count\")\\\n",
    "    .withColumnRenamed(\"sum(count)\", \"destination_total\")\\\n",
    "    .sort(desc(\"destination_total\"))\\\n",
    "    .limit(5)\\\n",
    "    .explain()"
   ]
  },
  {
   "cell_type": "code",
   "execution_count": 0,
   "metadata": {
    "application/vnd.databricks.v1+cell": {
     "cellMetadata": {},
     "inputWidgets": {},
     "nuid": "14103dc8-c00e-4182-a180-6075f5b5e381",
     "showTitle": false,
     "title": ""
    }
   },
   "outputs": [],
   "source": []
  }
 ],
 "metadata": {
  "application/vnd.databricks.v1+notebook": {
   "dashboards": [],
   "language": "python",
   "notebookMetadata": {
    "pythonIndentUnit": 4
   },
   "notebookName": "[Spark] Chapter 02",
   "widgets": {}
  }
 },
 "nbformat": 4,
 "nbformat_minor": 0
}
